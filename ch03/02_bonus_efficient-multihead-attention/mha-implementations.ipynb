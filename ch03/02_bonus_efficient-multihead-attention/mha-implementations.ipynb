{
 "cells": [
  {
   "cell_type": "markdown",
   "id": "e2e65c03-36d4-413f-9b23-5cdd816729ab",
   "metadata": {
    "id": "e2e65c03-36d4-413f-9b23-5cdd816729ab"
   },
   "source": [
    "<table style=\"width:100%\">\n",
    "<tr>\n",
    "<td style=\"vertical-align:middle; text-align:left;\">\n",
    "<font size=\"2\">\n",
    "Supplementary code for the <a href=\"http://mng.bz/orYv\">Build a Large Language Model From Scratch</a> book by <a href=\"https://sebastianraschka.com\">Sebastian Raschka</a><br>\n",
    "<br>Code repository: <a href=\"https://github.com/rasbt/LLMs-from-scratch\">https://github.com/rasbt/LLMs-from-scratch</a>\n",
    "</font>\n",
    "</td>\n",
    "<td style=\"vertical-align:middle; text-align:left;\">\n",
    "<a href=\"http://mng.bz/orYv\"><img src=\"https://sebastianraschka.com/images/LLMs-from-scratch-images/cover-small.webp\" width=\"100px\"></a>\n",
    "</td>\n",
    "</tr>\n",
    "</table>"
   ]
  },
  {
   "cell_type": "markdown",
   "id": "6f678e62-7bcb-4405-86ae-dce94f494303",
   "metadata": {
    "id": "6f678e62-7bcb-4405-86ae-dce94f494303"
   },
   "source": [
    "# Comparing Efficient Multi-Head Attention Implementations"
   ]
  },
  {
   "cell_type": "markdown",
   "id": "b742938a-4bfc-4527-a1f1-d5963508967d",
   "metadata": {
    "id": "b742938a-4bfc-4527-a1f1-d5963508967d"
   },
   "source": [
    "This code notebook compares different ways to implement causal multi-head attention used in decoder-style LLMs like GPT, Llama, etc."
   ]
  },
  {
   "cell_type": "code",
   "execution_count": 1,
   "id": "7898551e-f582-48ac-9f66-3632abe2a93f",
   "metadata": {
    "colab": {
     "base_uri": "https://localhost:8080/"
    },
    "id": "7898551e-f582-48ac-9f66-3632abe2a93f",
    "outputId": "1a7d22c1-96d8-4a42-e3ec-ce78abaf18eb"
   },
   "outputs": [
    {
     "name": "stdout",
     "output_type": "stream",
     "text": [
      "PyTorch version: 2.5.1+cu124\n"
     ]
    }
   ],
   "source": [
    "import torch\n",
    "\n",
    "torch.manual_seed(123)\n",
    "device = torch.device(\"cuda\" if torch.cuda.is_available() else \"cpu\")\n",
    "print(f\"PyTorch version: {torch.__version__}\")\n",
    "\n",
    "batch_size = 8\n",
    "context_len = 1024\n",
    "embed_dim = 768\n",
    "embeddings = torch.randn((batch_size, context_len, embed_dim), device=device)"
   ]
  },
  {
   "cell_type": "markdown",
   "id": "LYLcq3403Yq6",
   "metadata": {
    "id": "LYLcq3403Yq6"
   },
   "source": [
    "- To run all the code in this notebook, please ensure you update to at least PyTorch 2.5 (FlexAttention is not included in earlier PyTorch releases)\n",
    "- If the code cell above shows a PyTorch version lower than 2.5, you can upgrade your PyTorch installation by uncommenting and running the following code cell (Please note that PyTorch 2.5 requires Python 3.9 or later)\n",
    "- For more specific instructions and CUDA versions, please refer to the official installation guide at https://pytorch.org"
   ]
  },
  {
   "cell_type": "code",
   "execution_count": 2,
   "id": "1db27f43-86f4-478f-89df-fbc2182a129b",
   "metadata": {},
   "outputs": [],
   "source": [
    "# pip install --upgrade torch torchvision torchaudio"
   ]
  },
  {
   "cell_type": "markdown",
   "id": "2f9bb1b6-a1e5-4e0a-884d-0f31b374a8d6",
   "metadata": {
    "id": "2f9bb1b6-a1e5-4e0a-884d-0f31b374a8d6"
   },
   "source": [
    "<br>\n",
    "&nbsp;\n",
    "\n",
    "## 1) CausalAttention MHA wrapper class from chapter 3"
   ]
  },
  {
   "cell_type": "code",
   "execution_count": 3,
   "id": "297c93ed-aec0-4896-bb89-42c4b294d3d1",
   "metadata": {
    "colab": {
     "base_uri": "https://localhost:8080/"
    },
    "id": "297c93ed-aec0-4896-bb89-42c4b294d3d1",
    "outputId": "b6f596e4-b778-496c-bea8-3fe83d873c5b"
   },
   "outputs": [
    {
     "name": "stdout",
     "output_type": "stream",
     "text": [
      "torch.Size([8, 1024, 768])\n"
     ]
    }
   ],
   "source": [
    "import torch.nn as nn\n",
    "\n",
    "class CausalAttention(nn.Module):\n",
    "\n",
    "    def __init__(self, d_in, d_out, context_length, dropout, qkv_bias=False):\n",
    "        super().__init__()\n",
    "        self.d_out = d_out\n",
    "        self.W_query = nn.Linear(d_in, d_out, bias=qkv_bias)\n",
    "        self.W_key = nn.Linear(d_in, d_out, bias=qkv_bias)\n",
    "        self.W_value = nn.Linear(d_in, d_out, bias=qkv_bias)\n",
    "        self.dropout = nn.Dropout(dropout)  # New\n",
    "        self.register_buffer(\"mask\", torch.triu(torch.ones(context_length, context_length), diagonal=1))  # New\n",
    "\n",
    "    def forward(self, x):\n",
    "        b, num_tokens, d_in = x.shape  # New batch dimension b\n",
    "        keys = self.W_key(x)\n",
    "        queries = self.W_query(x)\n",
    "        values = self.W_value(x)\n",
    "\n",
    "        attn_scores = queries @ keys.transpose(1, 2)  # Changed transpose\n",
    "        attn_scores.masked_fill_(  # New, _ ops are in-place\n",
    "            self.mask.bool()[:num_tokens, :num_tokens], -torch.inf)\n",
    "        attn_weights = torch.softmax(attn_scores / keys.shape[-1]**0.5, dim=-1)\n",
    "        attn_weights = self.dropout(attn_weights)  # New\n",
    "\n",
    "        context_vec = attn_weights @ values\n",
    "        return context_vec\n",
    "\n",
    "\n",
    "class Ch03_MHA_Wrapper(nn.Module):\n",
    "\n",
    "    def __init__(self, d_in, d_out, context_length, dropout, num_heads, qkv_bias=False):\n",
    "        super().__init__()\n",
    "        self.heads = nn.ModuleList(\n",
    "            [CausalAttention(d_in, d_out, context_length, dropout, qkv_bias)\n",
    "             for _ in range(num_heads)]\n",
    "        )\n",
    "        self.out_proj = nn.Linear(d_out*num_heads, d_out*num_heads)\n",
    "\n",
    "    def forward(self, x):\n",
    "        context_vec = torch.cat([head(x) for head in self.heads], dim=-1)\n",
    "        return self.out_proj(context_vec)\n",
    "\n",
    "\n",
    "mha_ch03_wrapper = Ch03_MHA_Wrapper(\n",
    "    d_in=embed_dim,\n",
    "    d_out=embed_dim//12,\n",
    "    context_length=context_len,\n",
    "    dropout=0.0,\n",
    "    num_heads=12,\n",
    "    qkv_bias=False\n",
    ").to(device)\n",
    "\n",
    "out = mha_ch03_wrapper(embeddings)\n",
    "print(out.shape)"
   ]
  },
  {
   "cell_type": "markdown",
   "id": "21930804-b327-40b1-8e63-94dcad39ce7b",
   "metadata": {
    "id": "21930804-b327-40b1-8e63-94dcad39ce7b"
   },
   "source": [
    "<br>\n",
    "&nbsp;\n",
    "\n",
    "## 2) The multi-head attention class from chapter 3"
   ]
  },
  {
   "cell_type": "code",
   "execution_count": 4,
   "id": "4ee6a61b-d25c-4a0c-8a59-f285544e3710",
   "metadata": {
    "colab": {
     "base_uri": "https://localhost:8080/"
    },
    "id": "4ee6a61b-d25c-4a0c-8a59-f285544e3710",
    "outputId": "4d9ade55-4710-4ae6-9f00-aa87811bfb04"
   },
   "outputs": [
    {
     "name": "stdout",
     "output_type": "stream",
     "text": [
      "torch.Size([8, 1024, 768])\n"
     ]
    }
   ],
   "source": [
    "class Ch03_MHA(nn.Module):\n",
    "    def __init__(self, d_in, d_out, context_length, dropout, num_heads, qkv_bias=False):\n",
    "        super().__init__()\n",
    "        assert d_out % num_heads == 0, \"d_out must be divisible by num_heads\"\n",
    "\n",
    "        self.d_out = d_out\n",
    "        self.num_heads = num_heads\n",
    "        self.head_dim = d_out // num_heads  # Reduce the projection dim to match desired output dim\n",
    "\n",
    "        self.W_query = nn.Linear(d_in, d_out, bias=qkv_bias)\n",
    "        self.W_key = nn.Linear(d_in, d_out, bias=qkv_bias)\n",
    "        self.W_value = nn.Linear(d_in, d_out, bias=qkv_bias)\n",
    "        self.out_proj = nn.Linear(d_out, d_out)  # Linear layer to combine head outputs\n",
    "        self.dropout = nn.Dropout(dropout)\n",
    "        self.register_buffer(\"mask\", torch.triu(torch.ones(context_length, context_length), diagonal=1))\n",
    "\n",
    "    def forward(self, x):\n",
    "        b, num_tokens, d_in = x.shape\n",
    "\n",
    "        keys = self.W_key(x)  # Shape: (b, num_tokens, d_out)\n",
    "        queries = self.W_query(x)\n",
    "        values = self.W_value(x)\n",
    "\n",
    "        # We implicitly split the matrix by adding a `num_heads` dimension\n",
    "        # Unroll last dim: (b, num_tokens, d_out) -> (b, num_tokens, num_heads, head_dim)\n",
    "        keys = keys.view(b, num_tokens, self.num_heads, self.head_dim)\n",
    "        values = values.view(b, num_tokens, self.num_heads, self.head_dim)\n",
    "        queries = queries.view(b, num_tokens, self.num_heads, self.head_dim)\n",
    "\n",
    "        # Transpose: (b, num_tokens, num_heads, head_dim) -> (b, num_heads, num_tokens, head_dim)\n",
    "        keys = keys.transpose(1, 2)\n",
    "        queries = queries.transpose(1, 2)\n",
    "        values = values.transpose(1, 2)\n",
    "\n",
    "        # Compute scaled dot-product attention (aka self-attention) with a causal mask\n",
    "        attn_scores = queries @ keys.transpose(2, 3)  # Dot product for each head\n",
    "\n",
    "        # Original mask truncated to the number of tokens and converted to boolean\n",
    "        mask_bool = self.mask.bool()[:num_tokens, :num_tokens]\n",
    "\n",
    "        # Use the mask to fill attention scores\n",
    "        attn_scores.masked_fill_(mask_bool, -torch.inf)\n",
    "\n",
    "        attn_weights = torch.softmax(attn_scores / keys.shape[-1]**0.5, dim=-1)\n",
    "        attn_weights = self.dropout(attn_weights)\n",
    "\n",
    "        # Shape: (b, num_tokens, num_heads, head_dim)\n",
    "        context_vec = (attn_weights @ values).transpose(1, 2)\n",
    "\n",
    "        # Combine heads, where self.d_out = self.num_heads * self.head_dim\n",
    "        context_vec = context_vec.contiguous().view(b, num_tokens, self.d_out)\n",
    "        context_vec = self.out_proj(context_vec)  # optional projection\n",
    "\n",
    "        return context_vec\n",
    "\n",
    "\n",
    "mha_ch03 = Ch03_MHA(\n",
    "    d_in=embed_dim,\n",
    "    d_out=embed_dim,\n",
    "    context_length=context_len,\n",
    "    dropout=0.0,\n",
    "    num_heads=12,\n",
    "    qkv_bias=False\n",
    ").to(device)\n",
    "\n",
    "out = mha_ch03(embeddings)\n",
    "print(out.shape)"
   ]
  },
  {
   "cell_type": "markdown",
   "id": "73cd11da-ea3b-4081-b483-c4965dfefbc4",
   "metadata": {
    "id": "73cd11da-ea3b-4081-b483-c4965dfefbc4"
   },
   "source": [
    "<br>\n",
    "&nbsp;\n",
    "\n",
    "## 3) An alternative multi-head attention with combined weights"
   ]
  },
  {
   "cell_type": "markdown",
   "id": "1fa1a5ea-eaff-4d2d-aaf0-b34cdb6fd4dd",
   "metadata": {
    "id": "1fa1a5ea-eaff-4d2d-aaf0-b34cdb6fd4dd"
   },
   "source": [
    "- The code for the `MultiHeadAttentionCombinedQKV` class below is based on code that was kindly shared by [Rayed Bin Wahed](https://github.com/rasbt/LLMs-from-scratch/discussions/51)\n",
    "- The main difference between the `MultiHeadAttentionCombinedQKV` class and the `MultiHeadAttention` class used in chapter 3 is that `MultiHeadAttentionCombinedQKV` uses a single weight matrix, `self.qkv = nn.Linear(d_in, 3 * d_out, bias=qkv_bias)` instead of separate weight matrices:\n",
    "\n",
    "  - `self.W_query = nn.Linear(d_in, d_out, bias=qkv_bias)`\n",
    "  - `self.W_key = nn.Linear(d_in, d_out, bias=qkv_bias)`\n",
    "  - `self.W_value = nn.Linear(d_in, d_out, bias=qkv_bias)`\n",
    "\n",
    "- Here, `self.qkv` combines all three weight matrices `self.W_query`, `self.W_key`, and `self.W_value` to carry out the query, key, and value computation in a single step\n",
    "- Using `q, k, v = qkv.unbind(0)`, we obtain the individual query, key, and value tensors, which are then used similarly to the query, key, and value tensors in the `MultiHeadAttention` class in chapter 3"
   ]
  },
  {
   "cell_type": "code",
   "execution_count": 5,
   "id": "9a6bd0a2-f27c-4602-afa0-c96cd295c1a6",
   "metadata": {
    "colab": {
     "base_uri": "https://localhost:8080/"
    },
    "id": "9a6bd0a2-f27c-4602-afa0-c96cd295c1a6",
    "outputId": "a0a023ee-3bc7-4a89-cdba-7c97921160ee"
   },
   "outputs": [
    {
     "name": "stdout",
     "output_type": "stream",
     "text": [
      "torch.Size([8, 1024, 768])\n"
     ]
    }
   ],
   "source": [
    "import torch.nn as nn\n",
    "\n",
    "\n",
    "class MultiHeadAttentionCombinedQKV(nn.Module):\n",
    "    def __init__(self, d_in, d_out, num_heads, context_length, dropout=0.0, qkv_bias=False):\n",
    "        super().__init__()\n",
    "\n",
    "        assert d_out % num_heads == 0, \"embed_dim is indivisible by num_heads\"\n",
    "\n",
    "        self.num_heads = num_heads\n",
    "        self.context_length = context_length\n",
    "        self.head_dim = d_out // num_heads\n",
    "\n",
    "        self.qkv = nn.Linear(d_in, 3 * d_out, bias=qkv_bias)\n",
    "        self.proj = nn.Linear(d_out, d_out)\n",
    "        self.dropout = nn.Dropout(dropout)\n",
    "\n",
    "        self.register_buffer(\n",
    "            \"mask\", torch.triu(torch.ones(context_length, context_length), diagonal=1)\n",
    "        )\n",
    "\n",
    "    def forward(self, x):\n",
    "        batch_size, num_tokens, embed_dim = x.shape\n",
    "\n",
    "        # (b, num_tokens, embed_dim) --> (b, num_tokens, 3 * embed_dim)\n",
    "        qkv = self.qkv(x)\n",
    "\n",
    "        # (b, num_tokens, 3 * embed_dim) --> (b, num_tokens, 3, num_heads, head_dim)\n",
    "        qkv = qkv.view(batch_size, num_tokens, 3, self.num_heads, self.head_dim)\n",
    "\n",
    "        # (b, num_tokens, 3, num_heads, head_dim) --> (3, b, num_heads, num_tokens, head_dim)\n",
    "        qkv = qkv.permute(2, 0, 3, 1, 4)\n",
    "\n",
    "        # (3, b, num_heads, num_tokens, head_dim) -> 3 times (b, num_head, num_tokens, head_dim)\n",
    "        queries, keys, values = qkv.unbind(0)\n",
    "\n",
    "        # (b, num_heads, num_tokens, head_dim) --> (b, num_heads, num_tokens, num_tokens)\n",
    "        attn_scores = queries @ keys.transpose(-2, -1)\n",
    "        attn_scores = attn_scores.masked_fill(\n",
    "            self.mask.bool()[:num_tokens, :num_tokens], -torch.inf\n",
    "        )\n",
    "\n",
    "        attn_weights = torch.softmax(attn_scores / keys.shape[-1]**-0.5, dim=-1)\n",
    "        attn_weights = self.dropout(attn_weights)\n",
    "\n",
    "        # (b, num_heads, num_tokens, num_tokens) --> (b, num_heads, num_tokens, head_dim)\n",
    "        context_vec = attn_weights @ values\n",
    "\n",
    "        # (b, num_heads, num_tokens, head_dim) --> (b, num_tokens, num_heads, head_dim)\n",
    "        context_vec = context_vec.transpose(1, 2)\n",
    "\n",
    "        # (b, num_tokens, num_heads, head_dim) --> (b, num_tokens, embed_dim)\n",
    "        context_vec = context_vec.contiguous().view(batch_size, num_tokens, embed_dim)\n",
    "\n",
    "        context_vec = self.proj(context_vec)\n",
    "\n",
    "        return context_vec\n",
    "\n",
    "\n",
    "mha_combined_qkv = MultiHeadAttentionCombinedQKV(\n",
    "    d_in=embed_dim,\n",
    "    d_out=embed_dim,\n",
    "    context_length=context_len,\n",
    "    dropout=0.0,\n",
    "    num_heads=12,\n",
    "    qkv_bias=False\n",
    ").to(device)\n",
    "\n",
    "out = mha_combined_qkv(embeddings)\n",
    "print(out.shape)"
   ]
  },
  {
   "cell_type": "markdown",
   "id": "9b14390d-3e21-43fd-87be-43e7029163ee",
   "metadata": {
    "id": "9b14390d-3e21-43fd-87be-43e7029163ee"
   },
   "source": [
    "<br>\n",
    "&nbsp;\n",
    "\n",
    "## 4) Multi-head attention with Einsum\n",
    "\n",
    "- Implementing multi-head attention using Einstein summation via [`torch.einsum`](https://pytorch.org/docs/stable/generated/torch.einsum.html)"
   ]
  },
  {
   "cell_type": "code",
   "execution_count": 6,
   "id": "92481814-068d-439b-a65c-b1310ebbe0aa",
   "metadata": {
    "colab": {
     "base_uri": "https://localhost:8080/"
    },
    "id": "92481814-068d-439b-a65c-b1310ebbe0aa",
    "outputId": "59a75f6e-ef06-418f-8e54-d3b368fbed13"
   },
   "outputs": [
    {
     "name": "stdout",
     "output_type": "stream",
     "text": [
      "torch.Size([8, 1024, 768])\n"
     ]
    }
   ],
   "source": [
    "import math\n",
    "\n",
    "\n",
    "class MHAEinsum(nn.Module):\n",
    "\n",
    "    def __init__(self, d_in, d_out, context_length, dropout, num_heads, qkv_bias=False):\n",
    "        super().__init__()\n",
    "        assert d_out % num_heads == 0, \"d_out must be divisible by num_heads\"\n",
    "\n",
    "        self.d_out = d_out\n",
    "        self.num_heads = num_heads\n",
    "        self.head_dim = d_out // num_heads\n",
    "\n",
    "        # Initialize parameters for Q, K, V\n",
    "        self.W_query = nn.Parameter(torch.randn(d_out, d_in))\n",
    "        self.W_key = nn.Parameter(torch.randn(d_out, d_in))\n",
    "        self.W_value = nn.Parameter(torch.randn(d_out, d_in))\n",
    "\n",
    "        if qkv_bias:\n",
    "            self.bias_q = nn.Parameter(torch.zeros(d_out))\n",
    "            self.bias_k = nn.Parameter(torch.zeros(d_out))\n",
    "            self.bias_v = nn.Parameter(torch.zeros(d_out))\n",
    "        else:\n",
    "            self.register_parameter(\"bias_q\", None)\n",
    "            self.register_parameter(\"bias_k\", None)\n",
    "            self.register_parameter(\"bias_v\", None)\n",
    "\n",
    "        self.out_proj = nn.Linear(d_out, d_out)\n",
    "        self.dropout = nn.Dropout(dropout)\n",
    "        self.register_buffer(\"mask\", torch.triu(torch.ones(context_length, context_length), diagonal=1))\n",
    "\n",
    "        # Initialize parameters\n",
    "        self.reset_parameters()\n",
    "\n",
    "\n",
    "    def reset_parameters(self):\n",
    "        nn.init.kaiming_uniform_(self.W_query, a=math.sqrt(5))\n",
    "        nn.init.kaiming_uniform_(self.W_key, a=math.sqrt(5))\n",
    "        nn.init.kaiming_uniform_(self.W_value, a=math.sqrt(5))\n",
    "        if self.bias_q is not None:\n",
    "            fan_in, _ = nn.init._calculate_fan_in_and_fan_out(self.W_query)\n",
    "            bound = 1 / math.sqrt(fan_in)\n",
    "            nn.init.uniform_(self.bias_q, -bound, bound)\n",
    "            nn.init.uniform_(self.bias_k, -bound, bound)\n",
    "            nn.init.uniform_(self.bias_v, -bound, bound)\n",
    "\n",
    "    def forward(self, x):\n",
    "        b, n, _ = x.shape\n",
    "\n",
    "        # Calculate Q, K, V using einsum, first perform linear transformations\n",
    "        Q = torch.einsum(\"bnd,di->bni\", x, self.W_query)\n",
    "        K = torch.einsum(\"bnd,di->bni\", x, self.W_key)\n",
    "        V = torch.einsum(\"bnd,di->bni\", x, self.W_value)\n",
    "\n",
    "        # Add biases if they are used\n",
    "        if self.bias_q is not None:\n",
    "            Q += self.bias_q\n",
    "            K += self.bias_k\n",
    "            V += self.bias_v\n",
    "\n",
    "        # Reshape for multi-head attention\n",
    "        Q = Q.view(b, n, self.num_heads, self.head_dim).transpose(1, 2)\n",
    "        K = K.view(b, n, self.num_heads, self.head_dim).transpose(1, 2)\n",
    "        V = V.view(b, n, self.num_heads, self.head_dim).transpose(1, 2)\n",
    "\n",
    "        # Scaled dot-product attention\n",
    "        scores = torch.einsum(\"bhnd,bhmd->bhnm\", Q, K) / (self.head_dim ** 0.5)\n",
    "\n",
    "        # Apply mask\n",
    "        mask = self.mask[:n, :n].unsqueeze(0).unsqueeze(1).expand(b, self.num_heads, n, n)\n",
    "        scores = scores.masked_fill(mask.bool(), -torch.inf)\n",
    "\n",
    "        # Softmax and dropout\n",
    "        attn_weights = torch.softmax(scores, dim=-1)\n",
    "        attn_weights = self.dropout(attn_weights)\n",
    "\n",
    "        # Aggregate the attended context vectors\n",
    "        context_vec = torch.einsum(\"bhnm,bhmd->bhnd\", attn_weights, V)\n",
    "\n",
    "        # Combine heads and project the output\n",
    "        context_vec = context_vec.transpose(1, 2).reshape(b, n, self.d_out)\n",
    "        context_vec = self.out_proj(context_vec)\n",
    "\n",
    "        return context_vec\n",
    "\n",
    "\n",
    "mha_einsum = MHAEinsum(\n",
    "    d_in=embed_dim,\n",
    "    d_out=embed_dim,\n",
    "    context_length=context_len,\n",
    "    dropout=0.0,\n",
    "    num_heads=12,\n",
    "    qkv_bias=False\n",
    ").to(device)\n",
    "\n",
    "out = mha_einsum(embeddings)\n",
    "print(out.shape)"
   ]
  },
  {
   "cell_type": "markdown",
   "id": "48a042d3-ee78-4c29-bf63-d92fe6706632",
   "metadata": {
    "id": "48a042d3-ee78-4c29-bf63-d92fe6706632"
   },
   "source": [
    "<br>\n",
    "&nbsp;\n",
    "\n",
    "## 5) Multi-head attention with PyTorch's scaled dot product attention and FlashAttention"
   ]
  },
  {
   "cell_type": "markdown",
   "id": "f78e346f-3b85-44e6-9feb-f01131381148",
   "metadata": {
    "id": "f78e346f-3b85-44e6-9feb-f01131381148"
   },
   "source": [
    "- The implementation below uses PyTorch's [`scaled_dot_product_attention`](https://pytorch.org/docs/stable/generated/torch.nn.functional.scaled_dot_product_attention.html) function, which implements a memory-optimized version of self-attention called [FlashAttention](https://arxiv.org/abs/2205.14135)"
   ]
  },
  {
   "cell_type": "code",
   "execution_count": 7,
   "id": "1b8e5a0d-1f65-4a03-bf6e-723f0cc428f5",
   "metadata": {
    "id": "1b8e5a0d-1f65-4a03-bf6e-723f0cc428f5"
   },
   "outputs": [],
   "source": [
    "class MHAPyTorchScaledDotProduct(nn.Module):\n",
    "    def __init__(self, d_in, d_out, num_heads, context_length, dropout=0.0, qkv_bias=False):\n",
    "        super().__init__()\n",
    "\n",
    "        assert d_out % num_heads == 0, \"embed_dim is indivisible by num_heads\"\n",
    "\n",
    "        self.num_heads = num_heads\n",
    "        self.context_length = context_length\n",
    "        self.head_dim = d_out // num_heads\n",
    "        self.d_out = d_out\n",
    "\n",
    "        self.qkv = nn.Linear(d_in, 3 * d_out, bias=qkv_bias)\n",
    "        self.proj = nn.Linear(d_out, d_out)\n",
    "        self.dropout = dropout\n",
    "\n",
    "    def forward(self, x):\n",
    "        batch_size, num_tokens, embed_dim = x.shape\n",
    "\n",
    "        # (b, num_tokens, embed_dim) --> (b, num_tokens, 3 * embed_dim)\n",
    "        qkv = self.qkv(x)\n",
    "\n",
    "        # (b, num_tokens, 3 * embed_dim) --> (b, num_tokens, 3, num_heads, head_dim)\n",
    "        qkv = qkv.view(batch_size, num_tokens, 3, self.num_heads, self.head_dim)\n",
    "\n",
    "        # (b, num_tokens, 3, num_heads, head_dim) --> (3, b, num_heads, num_tokens, head_dim)\n",
    "        qkv = qkv.permute(2, 0, 3, 1, 4)\n",
    "\n",
    "        # (3, b, num_heads, num_tokens, head_dim) -> 3 times (b, num_heads, num_tokens, head_dim)\n",
    "        queries, keys, values = qkv\n",
    "\n",
    "        use_dropout = 0. if not self.training else self.dropout\n",
    "\n",
    "        context_vec = nn.functional.scaled_dot_product_attention(\n",
    "            queries, keys, values, attn_mask=None, dropout_p=use_dropout, is_causal=True)\n",
    "\n",
    "        # Combine heads, where self.d_out = self.num_heads * self.head_dim\n",
    "        context_vec = context_vec.transpose(1, 2).contiguous().view(batch_size, num_tokens, self.d_out)\n",
    "\n",
    "        context_vec = self.proj(context_vec)\n",
    "\n",
    "        return context_vec"
   ]
  },
  {
   "cell_type": "code",
   "execution_count": 8,
   "id": "fbc8ba92-3471-41cb-b1b2-4c0ef5be392b",
   "metadata": {
    "colab": {
     "base_uri": "https://localhost:8080/"
    },
    "id": "fbc8ba92-3471-41cb-b1b2-4c0ef5be392b",
    "outputId": "087a53e7-86d8-48dc-bf2e-023f0f2104cb"
   },
   "outputs": [
    {
     "name": "stdout",
     "output_type": "stream",
     "text": [
      "torch.Size([8, 1024, 768])\n"
     ]
    }
   ],
   "source": [
    "mha_pytorch_scaled = MHAPyTorchScaledDotProduct(\n",
    "    d_in=embed_dim,\n",
    "    d_out=embed_dim,\n",
    "    context_length=context_len,\n",
    "    dropout=0.0,\n",
    "    num_heads=12,\n",
    "    qkv_bias=False\n",
    ").to(device)\n",
    "\n",
    "out = mha_pytorch_scaled(embeddings)\n",
    "print(out.shape)"
   ]
  },
  {
   "cell_type": "markdown",
   "id": "51492724-6018-49f6-8bf6-ae9e585229c3",
   "metadata": {
    "id": "51492724-6018-49f6-8bf6-ae9e585229c3"
   },
   "source": [
    "<br>\n",
    "&nbsp;\n",
    "\n",
    "## 6) PyTorch's scaled dot product attention without FlashAttention\n",
    "\n",
    "- This is similar to above, except that we disable FlashAttention by passing an explicit causal mask"
   ]
  },
  {
   "cell_type": "code",
   "execution_count": 9,
   "id": "bad53538-e905-4065-ba0c-caacdfec5a0b",
   "metadata": {
    "id": "bad53538-e905-4065-ba0c-caacdfec5a0b"
   },
   "outputs": [],
   "source": [
    "class MHAPyTorchSDPAWithoutFlash(nn.Module):\n",
    "    def __init__(self, d_in, d_out, num_heads, context_length, dropout=0.0, qkv_bias=False):\n",
    "        super().__init__()\n",
    "\n",
    "        assert d_out % num_heads == 0, \"embed_dim is indivisible by num_heads\"\n",
    "\n",
    "        self.num_heads = num_heads\n",
    "        self.context_length = context_length\n",
    "        self.head_dim = d_out // num_heads\n",
    "        self.d_out = d_out\n",
    "\n",
    "        self.qkv = nn.Linear(d_in, 3 * d_out, bias=qkv_bias)\n",
    "        self.proj = nn.Linear(d_out, d_out)\n",
    "        self.dropout = dropout\n",
    "        self.register_buffer(\"mask\", torch.triu(torch.ones(context_length, context_length), diagonal=1).bool())\n",
    "\n",
    "    def forward(self, x):\n",
    "        batch_size, num_tokens, embed_dim = x.shape\n",
    "\n",
    "        # (b, num_tokens, embed_dim) --> (b, num_tokens, 3 * embed_dim)\n",
    "        qkv = self.qkv(x)\n",
    "\n",
    "        # (b, num_tokens, 3 * embed_dim) --> (b, num_tokens, 3, num_heads, head_dim)\n",
    "        qkv = qkv.view(batch_size, num_tokens, 3, self.num_heads, self.head_dim)\n",
    "\n",
    "        # (b, num_tokens, 3, num_heads, head_dim) --> (3, b, num_heads, num_tokens, head_dim)\n",
    "        qkv = qkv.permute(2, 0, 3, 1, 4)\n",
    "\n",
    "        # (3, b, num_heads, num_tokens, head_dim) -> 3 times (b, num_heads, num_tokens, head_dim)\n",
    "        queries, keys, values = qkv\n",
    "\n",
    "        use_dropout = 0. if not self.training else self.dropout\n",
    "\n",
    "        # Ensure attn_mask is compatible with expected shape and `batch_first=True`\n",
    "        # No need to manually adjust for num_heads; ensure it's right for the sequence\n",
    "        if self.context_length >= num_tokens:\n",
    "            attn_mask = self.mask[:num_tokens, :num_tokens]\n",
    "        else:\n",
    "            attn_mask = self.mask[:self.context_length, :self.context_length]\n",
    "\n",
    "        context_vec = nn.functional.scaled_dot_product_attention(\n",
    "            queries, keys, values, attn_mask=attn_mask, dropout_p=use_dropout, is_causal=False)\n",
    "\n",
    "        # Combine heads, where self.d_out = self.num_heads * self.head_dim\n",
    "        context_vec = context_vec.transpose(1, 2).contiguous().view(batch_size, num_tokens, self.d_out)\n",
    "\n",
    "        context_vec = self.proj(context_vec)\n",
    "\n",
    "        return context_vec"
   ]
  },
  {
   "cell_type": "code",
   "execution_count": 10,
   "id": "f3da7850-e772-47d3-bd51-22d077b01412",
   "metadata": {
    "colab": {
     "base_uri": "https://localhost:8080/"
    },
    "id": "f3da7850-e772-47d3-bd51-22d077b01412",
    "outputId": "cc8fc837-8e06-42fc-bad5-b17816f47fcd"
   },
   "outputs": [
    {
     "name": "stdout",
     "output_type": "stream",
     "text": [
      "torch.Size([8, 1024, 768])\n"
     ]
    }
   ],
   "source": [
    "mha_pytorch_sdpa_no_flash = MHAPyTorchSDPAWithoutFlash(\n",
    "    d_in=embed_dim,\n",
    "    d_out=embed_dim,\n",
    "    context_length=context_len,\n",
    "    dropout=0.0,\n",
    "    num_heads=12,\n",
    "    qkv_bias=False\n",
    ").to(device)\n",
    "\n",
    "out = mha_pytorch_sdpa_no_flash(embeddings)\n",
    "print(out.shape)"
   ]
  },
  {
   "cell_type": "markdown",
   "id": "351c318f-4835-4d74-8d58-a070222447c4",
   "metadata": {
    "id": "351c318f-4835-4d74-8d58-a070222447c4"
   },
   "source": [
    "<br>\n",
    "&nbsp;\n",
    "\n",
    "## 7) Using PyTorch's torch.nn.MultiheadAttention"
   ]
  },
  {
   "cell_type": "markdown",
   "id": "74a6d060-6324-48fa-a35c-cb09f2a48965",
   "metadata": {
    "id": "74a6d060-6324-48fa-a35c-cb09f2a48965"
   },
   "source": [
    "- Below, we use PyTorch's [torch.nn.MultiheadAttention](https://pytorch.org/docs/stable/generated/torch.nn.MultiheadAttention.html) implementation"
   ]
  },
  {
   "cell_type": "code",
   "execution_count": 11,
   "id": "3799c7ef-3155-42c6-a829-f95656453ae0",
   "metadata": {
    "colab": {
     "base_uri": "https://localhost:8080/"
    },
    "id": "3799c7ef-3155-42c6-a829-f95656453ae0",
    "outputId": "78236eea-a0f4-47e4-c846-606e7f8f8768"
   },
   "outputs": [
    {
     "name": "stdout",
     "output_type": "stream",
     "text": [
      "torch.Size([8, 1024, 768])\n"
     ]
    }
   ],
   "source": [
    "import torch.nn as nn\n",
    "\n",
    "\n",
    "class MHAPyTorchClass(nn.Module):\n",
    "    def __init__(self, d_in, d_out, num_heads, context_length, dropout=0.0, qkv_bias=False, need_weights=True):\n",
    "        super().__init__()\n",
    "\n",
    "        self.context_length = context_length\n",
    "        self.multihead_attn = nn.MultiheadAttention(\n",
    "            embed_dim=d_out,\n",
    "            num_heads=num_heads,\n",
    "            dropout=dropout,\n",
    "            bias=qkv_bias,\n",
    "            add_bias_kv=qkv_bias,\n",
    "            batch_first=True,\n",
    "        )\n",
    "\n",
    "        self.need_weights = need_weights\n",
    "        self.proj = nn.Linear(d_out, d_out)\n",
    "        self.register_buffer(\"mask\", torch.triu(torch.ones(context_length, context_length), diagonal=1).bool())\n",
    "\n",
    "    def forward(self, x):\n",
    "        batch_size, num_tokens, _ = x.shape\n",
    "\n",
    "        # Ensure attn_mask is compatible with expected shape and `batch_first=True`\n",
    "        # No need to manually adjust for num_heads; ensure it's right for the sequence\n",
    "        if self.context_length >= num_tokens:\n",
    "            attn_mask = self.mask[:num_tokens, :num_tokens]\n",
    "        else:\n",
    "            attn_mask = self.mask[:self.context_length, :self.context_length]\n",
    "\n",
    "        # attn_mask broadcasting will handle batch_size dimension implicitly\n",
    "        attn_output, _ = self.multihead_attn(\n",
    "            x, x, x, attn_mask=attn_mask, need_weights=self.need_weights\n",
    "        )\n",
    "\n",
    "        output = self.proj(attn_output)\n",
    "\n",
    "        return output\n",
    "\n",
    "\n",
    "mha_pytorch_class_default = MHAPyTorchClass(\n",
    "    d_in=embed_dim,\n",
    "    d_out=embed_dim,\n",
    "    context_length=context_len,\n",
    "    dropout=0.0,\n",
    "    num_heads=12,\n",
    "    qkv_bias=False\n",
    ").to(device)\n",
    "\n",
    "out = mha_pytorch_class_default(embeddings)\n",
    "print(out.shape)"
   ]
  },
  {
   "cell_type": "markdown",
   "id": "a3953bff-1056-4de2-bfd1-dfccf659eee4",
   "metadata": {
    "id": "a3953bff-1056-4de2-bfd1-dfccf659eee4"
   },
   "source": [
    "<br>\n",
    "&nbsp;\n",
    "\n",
    "## 8) Using PyTorch's torch.nn.MultiheadAttention with `scaled_dot_product_attention`"
   ]
  },
  {
   "cell_type": "markdown",
   "id": "d2164859-31a0-4537-b4fb-27d57675ba77",
   "metadata": {
    "id": "d2164859-31a0-4537-b4fb-27d57675ba77"
   },
   "source": [
    "- Set `need_weights` (default `True`) to `False` so that `MultiheadAttention` uses `scaled_dot_product_attention` [according to the documentation](https://github.com/pytorch/pytorch/blob/71d020262793542974cf13b30f2a9099773f015c/torch/nn/modules/activation.py#L1096)\n",
    "\n",
    "```markdown\n",
    "need_weights: If specified, returns `attn_output_weights` in addition to `attn_outputs`.\n",
    "           Set `need_weights=False` to use the optimized `scaled_dot_product_attention`\n",
    "           and achieve the best performance for MHA.\n",
    "           Default: `True`\n",
    "```"
   ]
  },
  {
   "cell_type": "code",
   "execution_count": 12,
   "id": "4a4c2afe-5e1f-4bd7-a118-67031176f147",
   "metadata": {
    "colab": {
     "base_uri": "https://localhost:8080/"
    },
    "id": "4a4c2afe-5e1f-4bd7-a118-67031176f147",
    "outputId": "6359dcff-ddcf-4cf9-eada-c3f0685cced2"
   },
   "outputs": [
    {
     "name": "stdout",
     "output_type": "stream",
     "text": [
      "torch.Size([8, 1024, 768])\n"
     ]
    }
   ],
   "source": [
    "mha_pytorch_class_noweights = MHAPyTorchClass(\n",
    "    d_in=embed_dim,\n",
    "    d_out=embed_dim,\n",
    "    context_length=context_len,\n",
    "    dropout=0.0,\n",
    "    num_heads=12,\n",
    "    qkv_bias=False,\n",
    "    need_weights=False # NEW!\n",
    ").to(device)\n",
    "\n",
    "out = mha_pytorch_class_noweights(embeddings)\n",
    "print(out.shape)"
   ]
  },
  {
   "cell_type": "markdown",
   "id": "21f4ff35-651c-4e47-bfa1-016f3de01ecc",
   "metadata": {
    "id": "21f4ff35-651c-4e47-bfa1-016f3de01ecc"
   },
   "source": [
    "<br>\n",
    "&nbsp;\n",
    "\n",
    "## 9) Using PyTorch's FlexAttention\n",
    "\n",
    "- See [FlexAttention: The Flexibility of PyTorch with the Performance of FlashAttention](https://pytorch.org/blog/flexattention/) to learn more about FlexAttention\n",
    "- This is supported starting from PyTorch 2.5, which you can install on a CPU machine via\n",
    "\n",
    "    ```bash\n",
    "    pip install torch torchvision torchaudio\n",
    "    ```\n",
    "\n",
    "- To install PyTorch on a GPU machine, use the following (for more information, also see the installation menu on [pytorch.org](https://pytorch.org/))\n",
    "\n",
    "    ```bash\n",
    "    pip install torch torchvision torchaudio --index-url https://download.pytorch.org/whl/cu124\n",
    "    ```"
   ]
  },
  {
   "cell_type": "code",
   "execution_count": 13,
   "id": "834318c8-4748-4902-99f0-70ee02bef63e",
   "metadata": {
    "id": "834318c8-4748-4902-99f0-70ee02bef63e"
   },
   "outputs": [],
   "source": [
    "from packaging.version import parse as parse_version\n",
    "\n",
    "def normalize_version(version):\n",
    "    parsed_version = parse_version(version)\n",
    "    return parse_version(f\"{parsed_version.major}.{parsed_version.minor}.{parsed_version.micro}\")\n",
    "\n",
    "current_version = normalize_version(torch.__version__)\n",
    "MIN_TORCH_VERSION = \"2.5.0\"\n",
    "required_version = parse_version(MIN_TORCH_VERSION)"
   ]
  },
  {
   "cell_type": "code",
   "execution_count": 14,
   "id": "WYyFRCXndVH9",
   "metadata": {
    "id": "WYyFRCXndVH9"
   },
   "outputs": [],
   "source": [
    "if current_version >= required_version:\n",
    "    from torch.nn.attention.flex_attention import flex_attention, create_block_mask\n",
    "\n",
    "\n",
    "def causal(b, h, q_idx, kv_idx):\n",
    "    return q_idx >= kv_idx\n",
    "\n",
    "\n",
    "class MHAPyTorchFlexAttention(nn.Module):\n",
    "\n",
    "    def __init__(self, d_in, d_out, num_heads, context_length, dropout=0.0, qkv_bias=False):\n",
    "        super().__init__()\n",
    "\n",
    "        assert d_out % num_heads == 0, \"embed_dim is indivisible by num_heads\"\n",
    "\n",
    "        self.num_heads = num_heads\n",
    "        self.context_length = context_length\n",
    "        self.head_dim = d_out // num_heads\n",
    "        self.d_out = d_out\n",
    "\n",
    "        self.qkv = nn.Linear(d_in, 3 * d_out, bias=qkv_bias)\n",
    "        self.proj = nn.Linear(d_out, d_out)\n",
    "        self.dropout = dropout\n",
    "        # self.register_buffer(\"block_mask\", create_block_mask(causal, B=None, H=None, Q_LEN=context_length, KV_LEN=context_length))\n",
    "        # `create_block_mask` function does not support buffers, yet\n",
    "        self.block_mask = create_block_mask(causal, B=None, H=None, Q_LEN=context_length, KV_LEN=context_length)\n",
    "\n",
    "\n",
    "    def forward(self, x):\n",
    "        batch_size, num_tokens, embed_dim = x.shape\n",
    "\n",
    "        # (b, num_tokens, embed_dim) --> (b, num_tokens, 3 * embed_dim)\n",
    "        qkv = self.qkv(x)\n",
    "\n",
    "        # (b, num_tokens, 3 * embed_dim) --> (b, num_tokens, 3, num_heads, head_dim)\n",
    "        qkv = qkv.view(batch_size, num_tokens, 3, self.num_heads, self.head_dim)\n",
    "\n",
    "        # (b, num_tokens, 3, num_heads, head_dim) --> (3, b, num_heads, num_tokens, head_dim)\n",
    "        qkv = qkv.permute(2, 0, 3, 1, 4)\n",
    "\n",
    "        # (3, b, num_heads, num_tokens, head_dim) -> 3 times (b, num_heads, num_tokens, head_dim)\n",
    "        queries, keys, values = qkv\n",
    "\n",
    "        use_dropout = 0. if not self.training else self.dropout\n",
    "\n",
    "        # Ensure attn_mask is compatible with expected shape and `batch_first=True`\n",
    "        # No need to manually adjust for num_heads; ensure it's right for the sequence\n",
    "        if self.context_length >= num_tokens:\n",
    "            attn_mask = self.block_mask[:num_tokens, :num_tokens]\n",
    "        else:\n",
    "            attn_mask = self.block_mask[:self.context_length, :self.context_length]\n",
    "\n",
    "        context_vec = flex_attention(queries, keys, values, block_mask=attn_mask)\n",
    "\n",
    "        # Combine heads, where self.d_out = self.num_heads * self.head_dim\n",
    "        context_vec = context_vec.transpose(1, 2).contiguous().view(batch_size, num_tokens, self.d_out)\n",
    "\n",
    "        context_vec = self.proj(context_vec)\n",
    "\n",
    "        return context_vec"
   ]
  },
  {
   "cell_type": "code",
   "execution_count": 15,
   "id": "9cdaaf8a-f956-44bc-932f-4d33448e8aaf",
   "metadata": {
    "colab": {
     "base_uri": "https://localhost:8080/"
    },
    "id": "9cdaaf8a-f956-44bc-932f-4d33448e8aaf",
    "outputId": "a88a7398-159e-401f-d96c-2fc928908e3e"
   },
   "outputs": [
    {
     "name": "stdout",
     "output_type": "stream",
     "text": [
      "torch.Size([8, 1024, 768])\n"
     ]
    }
   ],
   "source": [
    "if current_version >= required_version and torch.cuda.is_available():\n",
    "\n",
    "    mha_pytorch_flex = MHAPyTorchFlexAttention(\n",
    "        d_in=embed_dim,\n",
    "        d_out=embed_dim,\n",
    "        context_length=context_len,\n",
    "        dropout=0.0,\n",
    "        num_heads=12,\n",
    "        qkv_bias=False\n",
    "    ).to(device)\n",
    "\n",
    "    out = mha_pytorch_flex(embeddings)\n",
    "    print(out.shape)"
   ]
  },
  {
   "cell_type": "markdown",
   "id": "8877de71-f84f-4f6d-bc87-7552013b6301",
   "metadata": {
    "id": "8877de71-f84f-4f6d-bc87-7552013b6301"
   },
   "source": [
    "<br>\n",
    "&nbsp;\n",
    "\n",
    "## Quick speed comparison (M3 Macbook Air CPU)"
   ]
  },
  {
   "cell_type": "code",
   "execution_count": 16,
   "id": "219cf93a-078f-434d-888c-2458d0731285",
   "metadata": {
    "colab": {
     "base_uri": "https://localhost:8080/"
    },
    "id": "219cf93a-078f-434d-888c-2458d0731285",
    "outputId": "a10b52d4-b4e6-43c2-9677-113c41edd3b7"
   },
   "outputs": [
    {
     "name": "stdout",
     "output_type": "stream",
     "text": [
      "PyTorch version: 2.5.1+cu124\n",
      "Running on cuda\n"
     ]
    }
   ],
   "source": [
    "torch.manual_seed(123)\n",
    "device = torch.device(\"cuda\" if torch.cuda.is_available() else \"cpu\")\n",
    "print(f\"PyTorch version: {torch.__version__}\")\n",
    "print(f\"Running on {device}\")"
   ]
  },
  {
   "cell_type": "code",
   "execution_count": 17,
   "id": "a97c0b2e-6593-49d8-98bc-2267b3aa610f",
   "metadata": {
    "colab": {
     "base_uri": "https://localhost:8080/"
    },
    "id": "a97c0b2e-6593-49d8-98bc-2267b3aa610f",
    "outputId": "7bcd7da4-d115-4ba6-efba-377a0bd7d3a8"
   },
   "outputs": [
    {
     "name": "stdout",
     "output_type": "stream",
     "text": [
      "30 ms ± 1.29 ms per loop (mean ± std. dev. of 7 runs, 100 loops each)\n"
     ]
    }
   ],
   "source": [
    "## 1) CausalAttention MHA wrapper class from chapter 3\n",
    "%timeit mha_ch03_wrapper(embeddings)"
   ]
  },
  {
   "cell_type": "code",
   "execution_count": 18,
   "id": "19db9c2c-8e75-431a-8eef-0b4d8284e6e6",
   "metadata": {
    "colab": {
     "base_uri": "https://localhost:8080/"
    },
    "id": "19db9c2c-8e75-431a-8eef-0b4d8284e6e6",
    "outputId": "b04b4d0d-71aa-4944-f02b-131bf5a50202"
   },
   "outputs": [
    {
     "name": "stdout",
     "output_type": "stream",
     "text": [
      "25.9 ms ± 571 μs per loop (mean ± std. dev. of 7 runs, 100 loops each)\n"
     ]
    }
   ],
   "source": [
    "## 2) The multi-head attention class from chapter 3\n",
    "%timeit mha_ch03(embeddings)"
   ]
  },
  {
   "cell_type": "code",
   "execution_count": 19,
   "id": "aa526ee0-7a88-4f34-a49a-f8f97da83779",
   "metadata": {
    "colab": {
     "base_uri": "https://localhost:8080/"
    },
    "id": "aa526ee0-7a88-4f34-a49a-f8f97da83779",
    "outputId": "5436928a-7b98-4c40-bf51-97973f13327e"
   },
   "outputs": [
    {
     "name": "stdout",
     "output_type": "stream",
     "text": [
      "21.6 ms ± 3.27 ms per loop (mean ± std. dev. of 7 runs, 10 loops each)\n"
     ]
    }
   ],
   "source": [
    "## 3) An alternative multi-head attention with combined weights\n",
    "%timeit mha_combined_qkv(embeddings)"
   ]
  },
  {
   "cell_type": "code",
   "execution_count": 20,
   "id": "131ca826-35bf-47e5-b497-540aba439ef9",
   "metadata": {
    "id": "131ca826-35bf-47e5-b497-540aba439ef9",
    "outputId": "f5848852-f81b-4e5f-a7ff-e37a8445ad91"
   },
   "outputs": [
    {
     "name": "stdout",
     "output_type": "stream",
     "text": [
      "37 ms ± 4.15 ms per loop (mean ± std. dev. of 7 runs, 10 loops each)\n"
     ]
    }
   ],
   "source": [
    "## 4) Multi-head attention using Einstein summation\n",
    "%timeit mha_einsum(embeddings)"
   ]
  },
  {
   "cell_type": "code",
   "execution_count": 21,
   "id": "cc2b4256-16d8-4c34-9fd0-d4b4af0e60fa",
   "metadata": {
    "colab": {
     "base_uri": "https://localhost:8080/"
    },
    "id": "cc2b4256-16d8-4c34-9fd0-d4b4af0e60fa",
    "outputId": "9e07ce73-a2de-4e2c-8276-64626df9450e"
   },
   "outputs": [
    {
     "name": "stdout",
     "output_type": "stream",
     "text": [
      "13.8 ms ± 3.26 ms per loop (mean ± std. dev. of 7 runs, 100 loops each)\n"
     ]
    }
   ],
   "source": [
    "## 5) Multi-head attention with PyTorch's scaled dot product attention\n",
    "%timeit mha_pytorch_scaled(embeddings)"
   ]
  },
  {
   "cell_type": "code",
   "execution_count": 22,
   "id": "c44305ce-9f61-451a-b9ef-30caba222357",
   "metadata": {
    "colab": {
     "base_uri": "https://localhost:8080/"
    },
    "id": "c44305ce-9f61-451a-b9ef-30caba222357",
    "outputId": "6bab4a24-5bb4-4ad6-b260-3b442f598950"
   },
   "outputs": [
    {
     "name": "stdout",
     "output_type": "stream",
     "text": [
      "30.7 ms ± 799 μs per loop (mean ± std. dev. of 7 runs, 10 loops each)\n"
     ]
    }
   ],
   "source": [
    "## 6) PyTorch's scaled dot product attention without FlashAttention\n",
    "%timeit mha_pytorch_sdpa_no_flash(embeddings)"
   ]
  },
  {
   "cell_type": "code",
   "execution_count": 23,
   "id": "0f209e70-ebb6-4a1a-b608-1ff42e41c01d",
   "metadata": {
    "colab": {
     "base_uri": "https://localhost:8080/"
    },
    "id": "0f209e70-ebb6-4a1a-b608-1ff42e41c01d",
    "outputId": "630c49d1-8a06-4148-cd96-a7b2467310a0"
   },
   "outputs": [
    {
     "name": "stdout",
     "output_type": "stream",
     "text": [
      "45.2 ms ± 13.4 ms per loop (mean ± std. dev. of 7 runs, 10 loops each)\n"
     ]
    }
   ],
   "source": [
    "## 7) Using PyTorch's torch.nn.MultiheadAttention\n",
    "%timeit mha_pytorch_class_default(embeddings)"
   ]
  },
  {
   "cell_type": "code",
   "execution_count": 24,
   "id": "3f4968c2-8d40-4ab9-8dba-052b4f77d756",
   "metadata": {
    "colab": {
     "base_uri": "https://localhost:8080/"
    },
    "id": "3f4968c2-8d40-4ab9-8dba-052b4f77d756",
    "outputId": "10f6a268-f9cf-446c-aa83-e87b6a0b4f5c"
   },
   "outputs": [
    {
     "name": "stdout",
     "output_type": "stream",
     "text": [
      "20.6 ms ± 721 μs per loop (mean ± std. dev. of 7 runs, 10 loops each)\n"
     ]
    }
   ],
   "source": [
    "## 8) Using PyTorch's torch.nn.MultiheadAttention disabling `need_weights`\n",
    "%timeit mha_pytorch_class_noweights(embeddings)"
   ]
  },
  {
   "cell_type": "code",
   "execution_count": 25,
   "id": "bdd8e0fc-ef24-424c-bccf-c381e73da228",
   "metadata": {
    "id": "bdd8e0fc-ef24-424c-bccf-c381e73da228"
   },
   "outputs": [
    {
     "name": "stdout",
     "output_type": "stream",
     "text": [
      "50.9 ms ± 11.6 ms per loop (mean ± std. dev. of 7 runs, 1 loop each)\n"
     ]
    }
   ],
   "source": [
    "## 9) Using PyTorch's FlexAttention\n",
    "\n",
    "# Requires PyTorch 2.5.0 or newer and currently only supports CUDA PyTorch\n",
    "%timeit mha_pytorch_flex(embeddings)"
   ]
  },
  {
   "cell_type": "markdown",
   "id": "a78ff594-6cc2-496d-a302-789fa104c3c9",
   "metadata": {
    "id": "a78ff594-6cc2-496d-a302-789fa104c3c9"
   },
   "source": [
    "<br>\n",
    "&nbsp;\n",
    "\n",
    "## Quick speed comparison (Nvidia A100 GPU)"
   ]
  },
  {
   "cell_type": "code",
   "execution_count": 26,
   "id": "RStnI1pEi6Eo",
   "metadata": {
    "id": "RStnI1pEi6Eo"
   },
   "outputs": [],
   "source": [
    "# Enable tensor cores\n",
    "torch.set_float32_matmul_precision(\"high\")"
   ]
  },
  {
   "cell_type": "code",
   "execution_count": 27,
   "id": "e8431d75-e1c9-4d9a-b7da-9a1ff391f2bf",
   "metadata": {
    "colab": {
     "base_uri": "https://localhost:8080/"
    },
    "id": "e8431d75-e1c9-4d9a-b7da-9a1ff391f2bf",
    "outputId": "f6356d4c-7a3f-47f5-cf51-5507db3f5748"
   },
   "outputs": [
    {
     "name": "stdout",
     "output_type": "stream",
     "text": [
      "PyTorch version: 2.5.1+cu124\n",
      "Running on cuda\n"
     ]
    }
   ],
   "source": [
    "torch.manual_seed(123)\n",
    "device = torch.device(\"cuda\" if torch.cuda.is_available() else \"cpu\")\n",
    "print(f\"PyTorch version: {torch.__version__}\")\n",
    "print(f\"Running on {device}\")"
   ]
  },
  {
   "cell_type": "code",
   "execution_count": 28,
   "id": "707a2a14-a089-48a8-88aa-d328e1e0a9d0",
   "metadata": {
    "colab": {
     "base_uri": "https://localhost:8080/"
    },
    "id": "707a2a14-a089-48a8-88aa-d328e1e0a9d0",
    "outputId": "4ea5798b-a590-401b-d049-3fed0716db34"
   },
   "outputs": [
    {
     "name": "stdout",
     "output_type": "stream",
     "text": [
      "20.8 ms ± 944 μs per loop (mean ± std. dev. of 7 runs, 100 loops each)\n"
     ]
    }
   ],
   "source": [
    "## 1) CausalAttention MHA wrapper class from chapter 3\n",
    "%timeit mha_ch03_wrapper(embeddings)"
   ]
  },
  {
   "cell_type": "code",
   "execution_count": 29,
   "id": "8686dd69-3655-40e4-a57b-a2c55532a010",
   "metadata": {
    "colab": {
     "base_uri": "https://localhost:8080/"
    },
    "id": "8686dd69-3655-40e4-a57b-a2c55532a010",
    "outputId": "88094b61-4d87-47bd-8c8b-c9344ab57062"
   },
   "outputs": [
    {
     "name": "stdout",
     "output_type": "stream",
     "text": [
      "20.2 ms ± 859 μs per loop (mean ± std. dev. of 7 runs, 100 loops each)\n"
     ]
    }
   ],
   "source": [
    "## 2) The multi-head attention class from chapter 3\n",
    "%timeit mha_ch03(embeddings)"
   ]
  },
  {
   "cell_type": "code",
   "execution_count": 30,
   "id": "2209d7df-e54b-4910-ae2b-c78cf684d9bf",
   "metadata": {
    "colab": {
     "base_uri": "https://localhost:8080/"
    },
    "id": "2209d7df-e54b-4910-ae2b-c78cf684d9bf",
    "outputId": "e3d82c53-f75b-425a-ed3e-5e48ea9ef768"
   },
   "outputs": [
    {
     "name": "stdout",
     "output_type": "stream",
     "text": [
      "23.8 ms ± 84.9 μs per loop (mean ± std. dev. of 7 runs, 100 loops each)\n"
     ]
    }
   ],
   "source": [
    "## 3) An alternative multi-head attention with combined weights\n",
    "%timeit mha_combined_qkv(embeddings)"
   ]
  },
  {
   "cell_type": "code",
   "execution_count": 31,
   "id": "abee5edf-2585-4f0e-846c-b1c7ca88f545",
   "metadata": {
    "colab": {
     "base_uri": "https://localhost:8080/"
    },
    "id": "abee5edf-2585-4f0e-846c-b1c7ca88f545",
    "outputId": "c9bf17f5-de62-4c39-a328-fe430812b156"
   },
   "outputs": [
    {
     "name": "stdout",
     "output_type": "stream",
     "text": [
      "26.9 ms ± 735 μs per loop (mean ± std. dev. of 7 runs, 10 loops each)\n"
     ]
    }
   ],
   "source": [
    "## 4) Multi-head attention using Einstein summation\n",
    "%timeit mha_einsum(embeddings)"
   ]
  },
  {
   "cell_type": "code",
   "execution_count": 32,
   "id": "1075abe2-4839-4fd6-af3e-c09bb3651e26",
   "metadata": {
    "colab": {
     "base_uri": "https://localhost:8080/"
    },
    "id": "1075abe2-4839-4fd6-af3e-c09bb3651e26",
    "outputId": "b63f4769-3be5-44df-b8f2-2ac379be1ff4"
   },
   "outputs": [
    {
     "name": "stdout",
     "output_type": "stream",
     "text": [
      "10.5 ms ± 3.46 ms per loop (mean ± std. dev. of 7 runs, 100 loops each)\n"
     ]
    }
   ],
   "source": [
    "## 5) Multi-head attention with PyTorch's scaled dot product attention\n",
    "%timeit mha_pytorch_scaled(embeddings)"
   ]
  },
  {
   "cell_type": "code",
   "execution_count": 33,
   "id": "218adbaf-f17f-47d9-81d5-41c758218df7",
   "metadata": {
    "colab": {
     "base_uri": "https://localhost:8080/"
    },
    "id": "218adbaf-f17f-47d9-81d5-41c758218df7",
    "outputId": "a30ab365-865d-4175-f148-dc15abc4e07a"
   },
   "outputs": [
    {
     "name": "stdout",
     "output_type": "stream",
     "text": [
      "30.5 ms ± 767 μs per loop (mean ± std. dev. of 7 runs, 10 loops each)\n"
     ]
    }
   ],
   "source": [
    "## 6) PyTorch's scaled dot product attention without FlashAttention\n",
    "%timeit mha_pytorch_sdpa_no_flash(embeddings)"
   ]
  },
  {
   "cell_type": "code",
   "execution_count": 34,
   "id": "868e3670-8edc-47bc-9e06-eb505e44dc9d",
   "metadata": {
    "colab": {
     "base_uri": "https://localhost:8080/"
    },
    "id": "868e3670-8edc-47bc-9e06-eb505e44dc9d",
    "outputId": "e20e77ac-6573-4830-82c7-795bd139af4f"
   },
   "outputs": [
    {
     "name": "stdout",
     "output_type": "stream",
     "text": [
      "47.5 ms ± 13.2 ms per loop (mean ± std. dev. of 7 runs, 10 loops each)\n"
     ]
    }
   ],
   "source": [
    "## 7) Using PyTorch's torch.nn.MultiheadAttention\n",
    "%timeit mha_pytorch_class_default(embeddings)"
   ]
  },
  {
   "cell_type": "code",
   "execution_count": 35,
   "id": "944870e6-de54-4e3b-a455-b8f21f6f92c8",
   "metadata": {
    "colab": {
     "base_uri": "https://localhost:8080/"
    },
    "id": "944870e6-de54-4e3b-a455-b8f21f6f92c8",
    "outputId": "26df6295-fa5c-4b3f-89be-c7183f079fce"
   },
   "outputs": [
    {
     "name": "stdout",
     "output_type": "stream",
     "text": [
      "21.5 ms ± 819 μs per loop (mean ± std. dev. of 7 runs, 10 loops each)\n"
     ]
    }
   ],
   "source": [
    "## 8) Using PyTorch's torch.nn.MultiheadAttention disabling `need_weights`\n",
    "%timeit mha_pytorch_class_noweights(embeddings)"
   ]
  },
  {
   "cell_type": "code",
   "execution_count": 36,
   "id": "evKtpb5QN_2A",
   "metadata": {
    "colab": {
     "base_uri": "https://localhost:8080/"
    },
    "id": "evKtpb5QN_2A",
    "outputId": "23bf5398-c8ec-4463-8af9-17de8f920a33"
   },
   "outputs": [
    {
     "name": "stdout",
     "output_type": "stream",
     "text": [
      "58.8 ms ± 5.52 ms per loop (mean ± std. dev. of 7 runs, 1 loop each)\n"
     ]
    }
   ],
   "source": [
    "## 9) Using PyTorch's FlexAttention\n",
    "\n",
    "# Requires PyTorch 2.5.0 or newer\n",
    "%timeit mha_pytorch_flex(embeddings)"
   ]
  },
  {
   "cell_type": "markdown",
   "id": "dabc6575-0316-4640-a729-e616d5c17b73",
   "metadata": {
    "id": "dabc6575-0316-4640-a729-e616d5c17b73"
   },
   "source": [
    "<br>\n",
    "&nbsp;\n",
    "\n",
    "\n",
    "# Visualizations"
   ]
  },
  {
   "cell_type": "code",
   "execution_count": 37,
   "id": "bbb2f729-d3d8-46d0-b249-9249197ea574",
   "metadata": {
    "colab": {
     "base_uri": "https://localhost:8080/"
    },
    "id": "bbb2f729-d3d8-46d0-b249-9249197ea574",
    "outputId": "a45fe256-6416-4f43-87d2-27bbf97239e3"
   },
   "outputs": [
    {
     "name": "stdout",
     "output_type": "stream",
     "text": [
      "PyTorch version: 2.5.1+cu124\n",
      "Running on cuda\n"
     ]
    }
   ],
   "source": [
    "torch.manual_seed(123)\n",
    "device = torch.device(\"cuda\" if torch.cuda.is_available() else \"cpu\")\n",
    "print(f\"PyTorch version: {torch.__version__}\")\n",
    "print(f\"Running on {device}\")"
   ]
  },
  {
   "cell_type": "code",
   "execution_count": 38,
   "id": "b0620bf5",
   "metadata": {
    "id": "b0620bf5"
   },
   "outputs": [],
   "source": [
    "functions = {\n",
    "    \"1) MHA wrapper class\": mha_ch03_wrapper,\n",
    "    \"2) MHA Ch03\": mha_ch03,\n",
    "    \"3) MHA with combined QKV weights\": mha_combined_qkv,\n",
    "    \"4) MHA with Einsum\": mha_einsum,\n",
    "    \"5) MHA with PyTorch scaled_dot_product_attention\": mha_pytorch_scaled,\n",
    "    \"6) PyTorch's SDPA, no FlashAttention\": mha_pytorch_sdpa_no_flash,\n",
    "    \"7) PyTorch MHA class defaults\": mha_pytorch_class_default,\n",
    "    \"8) PyTorch MHA with need_weights=False\": mha_pytorch_class_noweights\n",
    "    }\n",
    "\n",
    "if current_version >= required_version:\n",
    "    functions[\"8) PyTorch's FlexAttention\"] =  mha_pytorch_flex"
   ]
  },
  {
   "cell_type": "code",
   "execution_count": 39,
   "id": "CDJAPZaszaqx",
   "metadata": {
    "id": "CDJAPZaszaqx"
   },
   "outputs": [],
   "source": [
    "import matplotlib.pyplot as plt\n",
    "\n",
    "# Customize further for dark mode aesthetics\n",
    "plt.rcParams[\"figure.facecolor\"] = \"#121212\"\n",
    "plt.rcParams[\"axes.facecolor\"] = \"#121212\"\n",
    "plt.rcParams[\"axes.edgecolor\"] = \"white\"\n",
    "plt.rcParams[\"axes.labelcolor\"] = \"white\"\n",
    "plt.rcParams[\"text.color\"] = \"white\"\n",
    "plt.rcParams[\"xtick.color\"] = \"white\"\n",
    "plt.rcParams[\"ytick.color\"] = \"white\"\n",
    "plt.rcParams[\"grid.color\"] = \"#444444\"\n",
    "plt.rcParams[\"lines.linewidth\"] = 2\n",
    "plt.rcParams[\"lines.markersize\"] = 8\n",
    "\n",
    "def plot_execution_times(functions, execution_means, execution_stds, filename):\n",
    "\n",
    "    # Create plot\n",
    "    fig, ax = plt.subplots()\n",
    "    bars = ax.bar(functions.keys(), execution_means, yerr=execution_stds, capsize=5, error_kw={'ecolor': 'grey'})\n",
    "\n",
    "    plt.ylabel(\"Execution time (ms)\")\n",
    "    plt.xticks(rotation=45, ha=\"right\")\n",
    "\n",
    "    # Calculate new ylim with a margin\n",
    "    max_execution_time = max(execution_means)\n",
    "    upper_ylim = max_execution_time + 0.4 * max_execution_time  # Adding a 40% margin\n",
    "    plt.ylim(0, upper_ylim)\n",
    "\n",
    "    # Annotate bars with execution times\n",
    "    for bar in bars:\n",
    "        yval = bar.get_height()\n",
    "        plt.text(bar.get_x() + bar.get_width()/2, yval + (0.05 * upper_ylim), round(yval, 2), ha=\"center\", va=\"bottom\")\n",
    "\n",
    "    plt.tight_layout()\n",
    "    plt.savefig(filename)\n",
    "    plt.show()"
   ]
  },
  {
   "cell_type": "markdown",
   "id": "4df834dc",
   "metadata": {
    "id": "4df834dc"
   },
   "source": [
    "## Speed comparison (Nvidia A100 GPU) with warmup (forward pass only)"
   ]
  },
  {
   "cell_type": "code",
   "execution_count": 40,
   "id": "29b63d3d-6d0b-43bb-9c68-d5514dc81000",
   "metadata": {
    "id": "29b63d3d-6d0b-43bb-9c68-d5514dc81000"
   },
   "outputs": [],
   "source": [
    "# CUDA benchmark code shared by Andrei Aksionov\n",
    "# and based on code from\n",
    "# https://github.com/cuda-mode/lectures/blob/main/lecture1/pytorch_square.py\n",
    "\n",
    "import numpy as np\n",
    "\n",
    "def time_pytorch_function(func, *input, num_repeats=1_000):\n",
    "    start = torch.cuda.Event(enable_timing=True)\n",
    "    end = torch.cuda.Event(enable_timing=True)\n",
    "\n",
    "    # Warmup\n",
    "    for _ in range(5):\n",
    "        func(*input)\n",
    "    torch.cuda.synchronize()\n",
    "\n",
    "    times = []\n",
    "    for _ in range(num_repeats):\n",
    "        start.record()\n",
    "        func(*input)\n",
    "        end.record()\n",
    "        torch.cuda.synchronize()\n",
    "        times.append(start.elapsed_time(end))\n",
    "\n",
    "    return np.mean(times), np.std(times)"
   ]
  },
  {
   "cell_type": "code",
   "execution_count": 41,
   "id": "9dd07a09",
   "metadata": {
    "colab": {
     "base_uri": "https://localhost:8080/",
     "height": 488
    },
    "id": "9dd07a09",
    "outputId": "491d06f4-a6bc-431a-a1ca-4db38df57e0c"
   },
   "outputs": [
    {
     "data": {
      "image/png": "[encoded data removed]",
      "text/plain": [
       "<Figure size 640x480 with 1 Axes>"
      ]
     },
     "metadata": {},
     "output_type": "display_data"
    }
   ],
   "source": [
    "execution_stats = [time_pytorch_function(fn, embeddings) for fn in functions.values()]\n",
    "execution_means = [stat[0] for stat in execution_stats]\n",
    "execution_stds = [stat[1] for stat in execution_stats]\n",
    "\n",
    "\n",
    "plot_execution_times(functions, execution_means, execution_stds, filename=\"1_forward-only.pdf\")"
   ]
  },
  {
   "cell_type": "markdown",
   "id": "VQaSerWCOnYB",
   "metadata": {
    "id": "VQaSerWCOnYB"
   },
   "source": [
    "<br>\n",
    "&nbsp;\n",
    "\n",
    "\n",
    "## Speed comparison (Nvidia A100 GPU) with warmup (forward and backward pass)"
   ]
  },
  {
   "cell_type": "code",
   "execution_count": 42,
   "id": "69e6377b",
   "metadata": {
    "id": "69e6377b"
   },
   "outputs": [],
   "source": [
    "def forward_backward(func, embeddings):\n",
    "    if embeddings.grad is not None:\n",
    "        embeddings.grad.zero_()\n",
    "\n",
    "    output = func(embeddings)\n",
    "    loss = output.sum()\n",
    "    loss.backward()\n",
    "\n",
    "\n",
    "def time_pytorch_function_forward_backward(func, *input, num_repeats = 1_000):\n",
    "    # CUDA IS ASYNC so can't use python time module\n",
    "    start = torch.cuda.Event(enable_timing=True)\n",
    "    end = torch.cuda.Event(enable_timing=True)\n",
    "\n",
    "    # Warmup\n",
    "    for _ in range(5):\n",
    "        forward_backward(func, *input)\n",
    "    torch.cuda.synchronize()\n",
    "\n",
    "    times = []\n",
    "    for _ in range(num_repeats):\n",
    "        start.record()\n",
    "        forward_backward(func, *input)\n",
    "        end.record()\n",
    "        torch.cuda.synchronize()\n",
    "        times.append(start.elapsed_time(end))\n",
    "\n",
    "    return np.mean(times), np.std(times)"
   ]
  },
  {
   "cell_type": "code",
   "execution_count": 43,
   "id": "ReCmeRhCOpm8",
   "metadata": {
    "colab": {
     "base_uri": "https://localhost:8080/",
     "height": 488
    },
    "id": "ReCmeRhCOpm8",
    "outputId": "2bcfa909-ba87-4d31-b926-bc66e63736cc"
   },
   "outputs": [
    {
     "data": {
      "image/png": "[encoded data removed]",
      "text/plain": [
       "<Figure size 640x480 with 1 Axes>"
      ]
     },
     "metadata": {},
     "output_type": "display_data"
    }
   ],
   "source": [
    "execution_stats = [time_pytorch_function_forward_backward(fn, embeddings) for fn in functions.values()]\n",
    "execution_means = [stat[0] for stat in execution_stats]\n",
    "execution_stds = [stat[1] for stat in execution_stats]\n",
    "\n",
    "\n",
    "plot_execution_times(functions, execution_means, execution_stds, filename=\"2_forward-and-backward.pdf\")"
   ]
  },
  {
   "cell_type": "markdown",
   "id": "1gWX-Ayqia1k",
   "metadata": {
    "id": "1gWX-Ayqia1k"
   },
   "source": [
    "<br>\n",
    "&nbsp;\n",
    "\n",
    "\n",
    "## Speed comparison (Nvidia A100 GPU) with warmup and compilation (forward and backward pass)"
   ]
  },
  {
   "cell_type": "code",
   "execution_count": 44,
   "id": "LQDiAPooiYAz",
   "metadata": {
    "id": "LQDiAPooiYAz"
   },
   "outputs": [],
   "source": [
    "import torch._dynamo\n",
    "torch._dynamo.config.suppress_errors = True\n",
    "\n",
    "def prepare_function(fn):\n",
    "    fn = torch.compile(fn)\n",
    "    return fn"
   ]
  },
  {
   "cell_type": "code",
   "execution_count": 45,
   "id": "aac06ffe",
   "metadata": {
    "colab": {
     "base_uri": "https://localhost:8080/",
     "height": 489
    },
    "id": "aac06ffe",
    "outputId": "098c66b4-1201-4bdd-af23-e634f5ade806"
   },
   "outputs": [
    {
     "name": "stderr",
     "output_type": "stream",
     "text": [
      "W0103 23:56:55.052000 30900 torch\\_dynamo\\convert_frame.py:1125] WON'T CONVERT forward C:\\Users\\wexhi\\AppData\\Local\\Temp\\ipykernel_30900\\2518120624.py line 40 \n",
      "W0103 23:56:55.052000 30900 torch\\_dynamo\\convert_frame.py:1125] due to: \n",
      "W0103 23:56:55.052000 30900 torch\\_dynamo\\convert_frame.py:1125] Traceback (most recent call last):\n",
      "W0103 23:56:55.052000 30900 torch\\_dynamo\\convert_frame.py:1125]   File \"C:\\Users\\wexhi\\AppData\\Roaming\\Python\\Python312\\site-packages\\torch\\_dynamo\\output_graph.py\", line 1446, in _call_user_compiler\n",
      "W0103 23:56:55.052000 30900 torch\\_dynamo\\convert_frame.py:1125]     compiled_fn = compiler_fn(gm, self.example_inputs())\n",
      "W0103 23:56:55.052000 30900 torch\\_dynamo\\convert_frame.py:1125]                   ^^^^^^^^^^^^^^^^^^^^^^^^^^^^^^^^^^^^^^\n",
      "W0103 23:56:55.052000 30900 torch\\_dynamo\\convert_frame.py:1125]   File \"C:\\Users\\wexhi\\AppData\\Roaming\\Python\\Python312\\site-packages\\torch\\_dynamo\\repro\\after_dynamo.py\", line 129, in __call__\n",
      "W0103 23:56:55.052000 30900 torch\\_dynamo\\convert_frame.py:1125]     compiled_gm = compiler_fn(gm, example_inputs)\n",
      "W0103 23:56:55.052000 30900 torch\\_dynamo\\convert_frame.py:1125]                   ^^^^^^^^^^^^^^^^^^^^^^^^^^^^^^^\n",
      "W0103 23:56:55.052000 30900 torch\\_dynamo\\convert_frame.py:1125]   File \"C:\\Users\\wexhi\\AppData\\Roaming\\Python\\Python312\\site-packages\\torch\\__init__.py\", line 2234, in __call__\n",
      "W0103 23:56:55.052000 30900 torch\\_dynamo\\convert_frame.py:1125]     return compile_fx(model_, inputs_, config_patches=self.config)\n",
      "W0103 23:56:55.052000 30900 torch\\_dynamo\\convert_frame.py:1125]            ^^^^^^^^^^^^^^^^^^^^^^^^^^^^^^^^^^^^^^^^^^^^^^^^^^^^^^^\n",
      "W0103 23:56:55.052000 30900 torch\\_dynamo\\convert_frame.py:1125]   File \"C:\\Users\\wexhi\\AppData\\Roaming\\Python\\Python312\\site-packages\\torch\\_inductor\\compile_fx.py\", line 1521, in compile_fx\n",
      "W0103 23:56:55.052000 30900 torch\\_dynamo\\convert_frame.py:1125]     return aot_autograd(\n",
      "W0103 23:56:55.052000 30900 torch\\_dynamo\\convert_frame.py:1125]            ^^^^^^^^^^^^^\n",
      "W0103 23:56:55.052000 30900 torch\\_dynamo\\convert_frame.py:1125]   File \"C:\\Users\\wexhi\\AppData\\Roaming\\Python\\Python312\\site-packages\\torch\\_dynamo\\backends\\common.py\", line 72, in __call__\n",
      "W0103 23:56:55.052000 30900 torch\\_dynamo\\convert_frame.py:1125]     cg = aot_module_simplified(gm, example_inputs, **self.kwargs)\n",
      "W0103 23:56:55.052000 30900 torch\\_dynamo\\convert_frame.py:1125]          ^^^^^^^^^^^^^^^^^^^^^^^^^^^^^^^^^^^^^^^^^^^^^^^^^^^^^^^^\n",
      "W0103 23:56:55.052000 30900 torch\\_dynamo\\convert_frame.py:1125]   File \"C:\\Users\\wexhi\\AppData\\Roaming\\Python\\Python312\\site-packages\\torch\\_functorch\\aot_autograd.py\", line 1071, in aot_module_simplified\n",
      "W0103 23:56:55.052000 30900 torch\\_dynamo\\convert_frame.py:1125]     compiled_fn = dispatch_and_compile()\n",
      "W0103 23:56:55.052000 30900 torch\\_dynamo\\convert_frame.py:1125]                   ^^^^^^^^^^^^^^^^^^^^^^\n",
      "W0103 23:56:55.052000 30900 torch\\_dynamo\\convert_frame.py:1125]   File \"C:\\Users\\wexhi\\AppData\\Roaming\\Python\\Python312\\site-packages\\torch\\_functorch\\aot_autograd.py\", line 1056, in dispatch_and_compile\n",
      "W0103 23:56:55.052000 30900 torch\\_dynamo\\convert_frame.py:1125]     compiled_fn, _ = create_aot_dispatcher_function(\n",
      "W0103 23:56:55.052000 30900 torch\\_dynamo\\convert_frame.py:1125]                      ^^^^^^^^^^^^^^^^^^^^^^^^^^^^^^^\n",
      "W0103 23:56:55.052000 30900 torch\\_dynamo\\convert_frame.py:1125]   File \"C:\\Users\\wexhi\\AppData\\Roaming\\Python\\Python312\\site-packages\\torch\\_functorch\\aot_autograd.py\", line 522, in create_aot_dispatcher_function\n",
      "W0103 23:56:55.052000 30900 torch\\_dynamo\\convert_frame.py:1125]     return _create_aot_dispatcher_function(\n",
      "W0103 23:56:55.052000 30900 torch\\_dynamo\\convert_frame.py:1125]            ^^^^^^^^^^^^^^^^^^^^^^^^^^^^^^^^\n",
      "W0103 23:56:55.052000 30900 torch\\_dynamo\\convert_frame.py:1125]   File \"C:\\Users\\wexhi\\AppData\\Roaming\\Python\\Python312\\site-packages\\torch\\_functorch\\aot_autograd.py\", line 759, in _create_aot_dispatcher_function\n",
      "W0103 23:56:55.052000 30900 torch\\_dynamo\\convert_frame.py:1125]     compiled_fn, fw_metadata = compiler_fn(\n",
      "W0103 23:56:55.052000 30900 torch\\_dynamo\\convert_frame.py:1125]                                ^^^^^^^^^^^^\n",
      "W0103 23:56:55.052000 30900 torch\\_dynamo\\convert_frame.py:1125]   File \"C:\\Users\\wexhi\\AppData\\Roaming\\Python\\Python312\\site-packages\\torch\\_functorch\\_aot_autograd\\jit_compile_runtime_wrappers.py\", line 588, in aot_dispatch_autograd\n",
      "W0103 23:56:55.052000 30900 torch\\_dynamo\\convert_frame.py:1125]     compiled_fw_func = aot_config.fw_compiler(fw_module, adjusted_flat_args)\n",
      "W0103 23:56:55.052000 30900 torch\\_dynamo\\convert_frame.py:1125]                        ^^^^^^^^^^^^^^^^^^^^^^^^^^^^^^^^^^^^^^^^^^^^^^^^^^^^^\n",
      "W0103 23:56:55.052000 30900 torch\\_dynamo\\convert_frame.py:1125]   File \"C:\\Users\\wexhi\\AppData\\Roaming\\Python\\Python312\\site-packages\\torch\\_inductor\\compile_fx.py\", line 1350, in fw_compiler_base\n",
      "W0103 23:56:55.052000 30900 torch\\_dynamo\\convert_frame.py:1125]     return _fw_compiler_base(model, example_inputs, is_inference)\n",
      "W0103 23:56:55.052000 30900 torch\\_dynamo\\convert_frame.py:1125]            ^^^^^^^^^^^^^^^^^^^^^^^^^^^^^^^^^^^^^^^^^^^^^^^^^^^^^^\n",
      "W0103 23:56:55.052000 30900 torch\\_dynamo\\convert_frame.py:1125]   File \"C:\\Users\\wexhi\\AppData\\Roaming\\Python\\Python312\\site-packages\\torch\\_inductor\\compile_fx.py\", line 1421, in _fw_compiler_base\n",
      "W0103 23:56:55.052000 30900 torch\\_dynamo\\convert_frame.py:1125]     return inner_compile(\n",
      "W0103 23:56:55.052000 30900 torch\\_dynamo\\convert_frame.py:1125]            ^^^^^^^^^^^^^^\n",
      "W0103 23:56:55.052000 30900 torch\\_dynamo\\convert_frame.py:1125]   File \"C:\\Users\\wexhi\\AppData\\Roaming\\Python\\Python312\\site-packages\\torch\\_inductor\\compile_fx.py\", line 475, in compile_fx_inner\n",
      "W0103 23:56:55.052000 30900 torch\\_dynamo\\convert_frame.py:1125]     return wrap_compiler_debug(_compile_fx_inner, compiler_name=\"inductor\")(\n",
      "W0103 23:56:55.052000 30900 torch\\_dynamo\\convert_frame.py:1125]            ^^^^^^^^^^^^^^^^^^^^^^^^^^^^^^^^^^^^^^^^^^^^^^^^^^^^^^^^^^^^^^^^^\n",
      "W0103 23:56:55.052000 30900 torch\\_dynamo\\convert_frame.py:1125]   File \"C:\\Users\\wexhi\\AppData\\Roaming\\Python\\Python312\\site-packages\\torch\\_dynamo\\repro\\after_aot.py\", line 85, in debug_wrapper\n",
      "W0103 23:56:55.052000 30900 torch\\_dynamo\\convert_frame.py:1125]     inner_compiled_fn = compiler_fn(gm, example_inputs)\n",
      "W0103 23:56:55.052000 30900 torch\\_dynamo\\convert_frame.py:1125]                         ^^^^^^^^^^^^^^^^^^^^^^^^^^^^^^^\n",
      "W0103 23:56:55.052000 30900 torch\\_dynamo\\convert_frame.py:1125]   File \"C:\\Users\\wexhi\\AppData\\Roaming\\Python\\Python312\\site-packages\\torch\\_inductor\\compile_fx.py\", line 661, in _compile_fx_inner\n",
      "W0103 23:56:55.052000 30900 torch\\_dynamo\\convert_frame.py:1125]     compiled_graph = FxGraphCache.load(\n",
      "W0103 23:56:55.052000 30900 torch\\_dynamo\\convert_frame.py:1125]                      ^^^^^^^^^^^^^^^^^^\n",
      "W0103 23:56:55.052000 30900 torch\\_dynamo\\convert_frame.py:1125]   File \"C:\\Users\\wexhi\\AppData\\Roaming\\Python\\Python312\\site-packages\\torch\\_inductor\\codecache.py\", line 1334, in load\n",
      "W0103 23:56:55.052000 30900 torch\\_dynamo\\convert_frame.py:1125]     compiled_graph = compile_fx_fn(\n",
      "W0103 23:56:55.052000 30900 torch\\_dynamo\\convert_frame.py:1125]                      ^^^^^^^^^^^^^^\n",
      "W0103 23:56:55.052000 30900 torch\\_dynamo\\convert_frame.py:1125]   File \"C:\\Users\\wexhi\\AppData\\Roaming\\Python\\Python312\\site-packages\\torch\\_inductor\\compile_fx.py\", line 570, in codegen_and_compile\n",
      "W0103 23:56:55.052000 30900 torch\\_dynamo\\convert_frame.py:1125]     compiled_graph = fx_codegen_and_compile(gm, example_inputs, **fx_kwargs)\n",
      "W0103 23:56:55.052000 30900 torch\\_dynamo\\convert_frame.py:1125]                      ^^^^^^^^^^^^^^^^^^^^^^^^^^^^^^^^^^^^^^^^^^^^^^^^^^^^^^^\n",
      "W0103 23:56:55.052000 30900 torch\\_dynamo\\convert_frame.py:1125]   File \"C:\\Users\\wexhi\\AppData\\Roaming\\Python\\Python312\\site-packages\\torch\\_inductor\\compile_fx.py\", line 878, in fx_codegen_and_compile\n",
      "W0103 23:56:55.052000 30900 torch\\_dynamo\\convert_frame.py:1125]     compiled_fn = graph.compile_to_fn()\n",
      "W0103 23:56:55.052000 30900 torch\\_dynamo\\convert_frame.py:1125]                   ^^^^^^^^^^^^^^^^^^^^^\n",
      "W0103 23:56:55.052000 30900 torch\\_dynamo\\convert_frame.py:1125]   File \"C:\\Users\\wexhi\\AppData\\Roaming\\Python\\Python312\\site-packages\\torch\\_inductor\\graph.py\", line 1913, in compile_to_fn\n",
      "W0103 23:56:55.052000 30900 torch\\_dynamo\\convert_frame.py:1125]     return self.compile_to_module().call\n",
      "W0103 23:56:55.052000 30900 torch\\_dynamo\\convert_frame.py:1125]            ^^^^^^^^^^^^^^^^^^^^^^^^\n",
      "W0103 23:56:55.052000 30900 torch\\_dynamo\\convert_frame.py:1125]   File \"C:\\Users\\wexhi\\AppData\\Roaming\\Python\\Python312\\site-packages\\torch\\_inductor\\graph.py\", line 1839, in compile_to_module\n",
      "W0103 23:56:55.052000 30900 torch\\_dynamo\\convert_frame.py:1125]     return self._compile_to_module()\n",
      "W0103 23:56:55.052000 30900 torch\\_dynamo\\convert_frame.py:1125]            ^^^^^^^^^^^^^^^^^^^^^^^^^\n",
      "W0103 23:56:55.052000 30900 torch\\_dynamo\\convert_frame.py:1125]   File \"C:\\Users\\wexhi\\AppData\\Roaming\\Python\\Python312\\site-packages\\torch\\_inductor\\graph.py\", line 1845, in _compile_to_module\n",
      "W0103 23:56:55.052000 30900 torch\\_dynamo\\convert_frame.py:1125]     self.codegen_with_cpp_wrapper() if self.cpp_wrapper else self.codegen()\n",
      "W0103 23:56:55.052000 30900 torch\\_dynamo\\convert_frame.py:1125]                                                              ^^^^^^^^^^^^^^\n",
      "W0103 23:56:55.052000 30900 torch\\_dynamo\\convert_frame.py:1125]   File \"C:\\Users\\wexhi\\AppData\\Roaming\\Python\\Python312\\site-packages\\torch\\_inductor\\graph.py\", line 1780, in codegen\n",
      "W0103 23:56:55.052000 30900 torch\\_dynamo\\convert_frame.py:1125]     self.scheduler = Scheduler(self.operations)\n",
      "W0103 23:56:55.052000 30900 torch\\_dynamo\\convert_frame.py:1125]                      ^^^^^^^^^^^^^^^^^^^^^^^^^^\n",
      "W0103 23:56:55.052000 30900 torch\\_dynamo\\convert_frame.py:1125]   File \"C:\\Users\\wexhi\\AppData\\Roaming\\Python\\Python312\\site-packages\\torch\\_inductor\\scheduler.py\", line 1731, in __init__\n",
      "W0103 23:56:55.052000 30900 torch\\_dynamo\\convert_frame.py:1125]     self._init(nodes)\n",
      "W0103 23:56:55.052000 30900 torch\\_dynamo\\convert_frame.py:1125]   File \"C:\\Users\\wexhi\\AppData\\Roaming\\Python\\Python312\\site-packages\\torch\\_inductor\\scheduler.py\", line 1749, in _init\n",
      "W0103 23:56:55.052000 30900 torch\\_dynamo\\convert_frame.py:1125]     self.nodes = [self.create_scheduler_node(n) for n in nodes]\n",
      "W0103 23:56:55.052000 30900 torch\\_dynamo\\convert_frame.py:1125]                   ^^^^^^^^^^^^^^^^^^^^^^^^^^^^^\n",
      "W0103 23:56:55.052000 30900 torch\\_dynamo\\convert_frame.py:1125]   File \"C:\\Users\\wexhi\\AppData\\Roaming\\Python\\Python312\\site-packages\\torch\\_inductor\\scheduler.py\", line 1856, in create_scheduler_node\n",
      "W0103 23:56:55.052000 30900 torch\\_dynamo\\convert_frame.py:1125]     return SchedulerNode(self, node)\n",
      "W0103 23:56:55.052000 30900 torch\\_dynamo\\convert_frame.py:1125]            ^^^^^^^^^^^^^^^^^^^^^^^^^\n",
      "W0103 23:56:55.052000 30900 torch\\_dynamo\\convert_frame.py:1125]   File \"C:\\Users\\wexhi\\AppData\\Roaming\\Python\\Python312\\site-packages\\torch\\_inductor\\scheduler.py\", line 833, in __init__\n",
      "W0103 23:56:55.052000 30900 torch\\_dynamo\\convert_frame.py:1125]     self._compute_attrs()\n",
      "W0103 23:56:55.052000 30900 torch\\_dynamo\\convert_frame.py:1125]   File \"C:\\Users\\wexhi\\AppData\\Roaming\\Python\\Python312\\site-packages\\torch\\_inductor\\scheduler.py\", line 846, in _compute_attrs\n",
      "W0103 23:56:55.052000 30900 torch\\_dynamo\\convert_frame.py:1125]     group_fn = self.scheduler.get_backend(self.node.get_device()).group_fn\n",
      "W0103 23:56:55.052000 30900 torch\\_dynamo\\convert_frame.py:1125]                ^^^^^^^^^^^^^^^^^^^^^^^^^^^^^^^^^^^^^^^^^^^^^^^^^^\n",
      "W0103 23:56:55.052000 30900 torch\\_dynamo\\convert_frame.py:1125]   File \"C:\\Users\\wexhi\\AppData\\Roaming\\Python\\Python312\\site-packages\\torch\\_inductor\\scheduler.py\", line 3360, in get_backend\n",
      "W0103 23:56:55.052000 30900 torch\\_dynamo\\convert_frame.py:1125]     self.backends[device] = self.create_backend(device)\n",
      "W0103 23:56:55.052000 30900 torch\\_dynamo\\convert_frame.py:1125]                             ^^^^^^^^^^^^^^^^^^^^^^^^^^^\n",
      "W0103 23:56:55.052000 30900 torch\\_dynamo\\convert_frame.py:1125]   File \"C:\\Users\\wexhi\\AppData\\Roaming\\Python\\Python312\\site-packages\\torch\\_inductor\\scheduler.py\", line 3352, in create_backend\n",
      "W0103 23:56:55.052000 30900 torch\\_dynamo\\convert_frame.py:1125]     raise RuntimeError(\n",
      "W0103 23:56:55.052000 30900 torch\\_dynamo\\convert_frame.py:1125] RuntimeError: Cannot find a working triton installation. Either the package is not installed or it is too old. More information on installing Triton can be found at https://github.com/openai/triton\n",
      "W0103 23:56:55.052000 30900 torch\\_dynamo\\convert_frame.py:1125] \n",
      "W0103 23:56:55.052000 30900 torch\\_dynamo\\convert_frame.py:1125] The above exception was the direct cause of the following exception:\n",
      "W0103 23:56:55.052000 30900 torch\\_dynamo\\convert_frame.py:1125] \n",
      "W0103 23:56:55.052000 30900 torch\\_dynamo\\convert_frame.py:1125] Traceback (most recent call last):\n",
      "W0103 23:56:55.052000 30900 torch\\_dynamo\\convert_frame.py:1125]   File \"C:\\Users\\wexhi\\AppData\\Roaming\\Python\\Python312\\site-packages\\torch\\_dynamo\\convert_frame.py\", line 1064, in __call__\n",
      "W0103 23:56:55.052000 30900 torch\\_dynamo\\convert_frame.py:1125]     result = self._inner_convert(\n",
      "W0103 23:56:55.052000 30900 torch\\_dynamo\\convert_frame.py:1125]              ^^^^^^^^^^^^^^^^^^^^\n",
      "W0103 23:56:55.052000 30900 torch\\_dynamo\\convert_frame.py:1125]   File \"C:\\Users\\wexhi\\AppData\\Roaming\\Python\\Python312\\site-packages\\torch\\_dynamo\\convert_frame.py\", line 526, in __call__\n",
      "W0103 23:56:55.052000 30900 torch\\_dynamo\\convert_frame.py:1125]     return _compile(\n",
      "W0103 23:56:55.052000 30900 torch\\_dynamo\\convert_frame.py:1125]            ^^^^^^^^^\n",
      "W0103 23:56:55.052000 30900 torch\\_dynamo\\convert_frame.py:1125]   File \"C:\\Users\\wexhi\\AppData\\Roaming\\Python\\Python312\\site-packages\\torch\\_dynamo\\convert_frame.py\", line 924, in _compile\n",
      "W0103 23:56:55.052000 30900 torch\\_dynamo\\convert_frame.py:1125]     guarded_code = compile_inner(code, one_graph, hooks, transform)\n",
      "W0103 23:56:55.052000 30900 torch\\_dynamo\\convert_frame.py:1125]                    ^^^^^^^^^^^^^^^^^^^^^^^^^^^^^^^^^^^^^^^^^^^^^^^^\n",
      "W0103 23:56:55.052000 30900 torch\\_dynamo\\convert_frame.py:1125]   File \"C:\\Users\\wexhi\\AppData\\Roaming\\Python\\Python312\\site-packages\\torch\\_dynamo\\convert_frame.py\", line 666, in compile_inner\n",
      "W0103 23:56:55.052000 30900 torch\\_dynamo\\convert_frame.py:1125]     return _compile_inner(code, one_graph, hooks, transform)\n",
      "W0103 23:56:55.052000 30900 torch\\_dynamo\\convert_frame.py:1125]            ^^^^^^^^^^^^^^^^^^^^^^^^^^^^^^^^^^^^^^^^^^^^^^^^^\n",
      "W0103 23:56:55.052000 30900 torch\\_dynamo\\convert_frame.py:1125]   File \"C:\\Users\\wexhi\\AppData\\Roaming\\Python\\Python312\\site-packages\\torch\\_utils_internal.py\", line 87, in wrapper_function\n",
      "W0103 23:56:55.052000 30900 torch\\_dynamo\\convert_frame.py:1125]     return function(*args, **kwargs)\n",
      "W0103 23:56:55.052000 30900 torch\\_dynamo\\convert_frame.py:1125]            ^^^^^^^^^^^^^^^^^^^^^^^^^\n",
      "W0103 23:56:55.052000 30900 torch\\_dynamo\\convert_frame.py:1125]   File \"C:\\Users\\wexhi\\AppData\\Roaming\\Python\\Python312\\site-packages\\torch\\_dynamo\\convert_frame.py\", line 699, in _compile_inner\n",
      "W0103 23:56:55.052000 30900 torch\\_dynamo\\convert_frame.py:1125]     out_code = transform_code_object(code, transform)\n",
      "W0103 23:56:55.052000 30900 torch\\_dynamo\\convert_frame.py:1125]                ^^^^^^^^^^^^^^^^^^^^^^^^^^^^^^^^^^^^^^\n",
      "W0103 23:56:55.052000 30900 torch\\_dynamo\\convert_frame.py:1125]   File \"C:\\Users\\wexhi\\AppData\\Roaming\\Python\\Python312\\site-packages\\torch\\_dynamo\\bytecode_transformation.py\", line 1322, in transform_code_object\n",
      "W0103 23:56:55.052000 30900 torch\\_dynamo\\convert_frame.py:1125]     transformations(instructions, code_options)\n",
      "W0103 23:56:55.052000 30900 torch\\_dynamo\\convert_frame.py:1125]   File \"C:\\Users\\wexhi\\AppData\\Roaming\\Python\\Python312\\site-packages\\torch\\_dynamo\\convert_frame.py\", line 219, in _fn\n",
      "W0103 23:56:55.052000 30900 torch\\_dynamo\\convert_frame.py:1125]     return fn(*args, **kwargs)\n",
      "W0103 23:56:55.052000 30900 torch\\_dynamo\\convert_frame.py:1125]            ^^^^^^^^^^^^^^^^^^^\n",
      "W0103 23:56:55.052000 30900 torch\\_dynamo\\convert_frame.py:1125]   File \"C:\\Users\\wexhi\\AppData\\Roaming\\Python\\Python312\\site-packages\\torch\\_dynamo\\convert_frame.py\", line 634, in transform\n",
      "W0103 23:56:55.052000 30900 torch\\_dynamo\\convert_frame.py:1125]     tracer.run()\n",
      "W0103 23:56:55.052000 30900 torch\\_dynamo\\convert_frame.py:1125]   File \"C:\\Users\\wexhi\\AppData\\Roaming\\Python\\Python312\\site-packages\\torch\\_dynamo\\symbolic_convert.py\", line 2796, in run\n",
      "W0103 23:56:55.052000 30900 torch\\_dynamo\\convert_frame.py:1125]     super().run()\n",
      "W0103 23:56:55.052000 30900 torch\\_dynamo\\convert_frame.py:1125]   File \"C:\\Users\\wexhi\\AppData\\Roaming\\Python\\Python312\\site-packages\\torch\\_dynamo\\symbolic_convert.py\", line 983, in run\n",
      "W0103 23:56:55.052000 30900 torch\\_dynamo\\convert_frame.py:1125]     while self.step():\n",
      "W0103 23:56:55.052000 30900 torch\\_dynamo\\convert_frame.py:1125]           ^^^^^^^^^^^\n",
      "W0103 23:56:55.052000 30900 torch\\_dynamo\\convert_frame.py:1125]   File \"C:\\Users\\wexhi\\AppData\\Roaming\\Python\\Python312\\site-packages\\torch\\_dynamo\\symbolic_convert.py\", line 895, in step\n",
      "W0103 23:56:55.052000 30900 torch\\_dynamo\\convert_frame.py:1125]     self.dispatch_table[inst.opcode](self, inst)\n",
      "W0103 23:56:55.052000 30900 torch\\_dynamo\\convert_frame.py:1125]   File \"C:\\Users\\wexhi\\AppData\\Roaming\\Python\\Python312\\site-packages\\torch\\_dynamo\\symbolic_convert.py\", line 2987, in RETURN_VALUE\n",
      "W0103 23:56:55.052000 30900 torch\\_dynamo\\convert_frame.py:1125]     self._return(inst)\n",
      "W0103 23:56:55.052000 30900 torch\\_dynamo\\convert_frame.py:1125]   File \"C:\\Users\\wexhi\\AppData\\Roaming\\Python\\Python312\\site-packages\\torch\\_dynamo\\symbolic_convert.py\", line 2972, in _return\n",
      "W0103 23:56:55.052000 30900 torch\\_dynamo\\convert_frame.py:1125]     self.output.compile_subgraph(\n",
      "W0103 23:56:55.052000 30900 torch\\_dynamo\\convert_frame.py:1125]   File \"C:\\Users\\wexhi\\AppData\\Roaming\\Python\\Python312\\site-packages\\torch\\_dynamo\\output_graph.py\", line 1117, in compile_subgraph\n",
      "W0103 23:56:55.052000 30900 torch\\_dynamo\\convert_frame.py:1125]     self.compile_and_call_fx_graph(tx, list(reversed(stack_values)), root)\n",
      "W0103 23:56:55.052000 30900 torch\\_dynamo\\convert_frame.py:1125]   File \"C:\\Users\\wexhi\\AppData\\Roaming\\Python\\Python312\\site-packages\\torch\\_dynamo\\output_graph.py\", line 1369, in compile_and_call_fx_graph\n",
      "W0103 23:56:55.052000 30900 torch\\_dynamo\\convert_frame.py:1125]     compiled_fn = self.call_user_compiler(gm)\n",
      "W0103 23:56:55.052000 30900 torch\\_dynamo\\convert_frame.py:1125]                   ^^^^^^^^^^^^^^^^^^^^^^^^^^^\n",
      "W0103 23:56:55.052000 30900 torch\\_dynamo\\convert_frame.py:1125]   File \"C:\\Users\\wexhi\\AppData\\Roaming\\Python\\Python312\\site-packages\\torch\\_dynamo\\output_graph.py\", line 1416, in call_user_compiler\n",
      "W0103 23:56:55.052000 30900 torch\\_dynamo\\convert_frame.py:1125]     return self._call_user_compiler(gm)\n",
      "W0103 23:56:55.052000 30900 torch\\_dynamo\\convert_frame.py:1125]            ^^^^^^^^^^^^^^^^^^^^^^^^^^^^\n",
      "W0103 23:56:55.052000 30900 torch\\_dynamo\\convert_frame.py:1125]   File \"C:\\Users\\wexhi\\AppData\\Roaming\\Python\\Python312\\site-packages\\torch\\_dynamo\\output_graph.py\", line 1465, in _call_user_compiler\n",
      "W0103 23:56:55.052000 30900 torch\\_dynamo\\convert_frame.py:1125]     raise BackendCompilerFailed(self.compiler_fn, e) from e\n",
      "W0103 23:56:55.052000 30900 torch\\_dynamo\\convert_frame.py:1125] torch._dynamo.exc.BackendCompilerFailed: backend='inductor' raised:\n",
      "W0103 23:56:55.052000 30900 torch\\_dynamo\\convert_frame.py:1125] RuntimeError: Cannot find a working triton installation. Either the package is not installed or it is too old. More information on installing Triton can be found at https://github.com/openai/triton\n",
      "W0103 23:56:55.052000 30900 torch\\_dynamo\\convert_frame.py:1125] \n",
      "W0103 23:56:55.052000 30900 torch\\_dynamo\\convert_frame.py:1125] Set TORCH_LOGS=\"+dynamo\" and TORCHDYNAMO_VERBOSE=1 for more information\n",
      "W0103 23:56:55.052000 30900 torch\\_dynamo\\convert_frame.py:1125] \n",
      "W0103 23:56:55.052000 30900 torch\\_dynamo\\convert_frame.py:1125] Traceback (most recent call last):\n",
      "W0103 23:56:55.052000 30900 torch\\_dynamo\\convert_frame.py:1125]   File \"C:\\Users\\wexhi\\AppData\\Roaming\\Python\\Python312\\site-packages\\torch\\_dynamo\\output_graph.py\", line 1446, in _call_user_compiler\n",
      "W0103 23:56:55.052000 30900 torch\\_dynamo\\convert_frame.py:1125]     compiled_fn = compiler_fn(gm, self.example_inputs())\n",
      "W0103 23:56:55.052000 30900 torch\\_dynamo\\convert_frame.py:1125]                   ^^^^^^^^^^^^^^^^^^^^^^^^^^^^^^^^^^^^^^\n",
      "W0103 23:56:55.052000 30900 torch\\_dynamo\\convert_frame.py:1125]   File \"C:\\Users\\wexhi\\AppData\\Roaming\\Python\\Python312\\site-packages\\torch\\_dynamo\\repro\\after_dynamo.py\", line 129, in __call__\n",
      "W0103 23:56:55.052000 30900 torch\\_dynamo\\convert_frame.py:1125]     compiled_gm = compiler_fn(gm, example_inputs)\n",
      "W0103 23:56:55.052000 30900 torch\\_dynamo\\convert_frame.py:1125]                   ^^^^^^^^^^^^^^^^^^^^^^^^^^^^^^^\n",
      "W0103 23:56:55.052000 30900 torch\\_dynamo\\convert_frame.py:1125]   File \"C:\\Users\\wexhi\\AppData\\Roaming\\Python\\Python312\\site-packages\\torch\\__init__.py\", line 2234, in __call__\n",
      "W0103 23:56:55.052000 30900 torch\\_dynamo\\convert_frame.py:1125]     return compile_fx(model_, inputs_, config_patches=self.config)\n",
      "W0103 23:56:55.052000 30900 torch\\_dynamo\\convert_frame.py:1125]            ^^^^^^^^^^^^^^^^^^^^^^^^^^^^^^^^^^^^^^^^^^^^^^^^^^^^^^^\n",
      "W0103 23:56:55.052000 30900 torch\\_dynamo\\convert_frame.py:1125]   File \"C:\\Users\\wexhi\\AppData\\Roaming\\Python\\Python312\\site-packages\\torch\\_inductor\\compile_fx.py\", line 1521, in compile_fx\n",
      "W0103 23:56:55.052000 30900 torch\\_dynamo\\convert_frame.py:1125]     return aot_autograd(\n",
      "W0103 23:56:55.052000 30900 torch\\_dynamo\\convert_frame.py:1125]            ^^^^^^^^^^^^^\n",
      "W0103 23:56:55.052000 30900 torch\\_dynamo\\convert_frame.py:1125]   File \"C:\\Users\\wexhi\\AppData\\Roaming\\Python\\Python312\\site-packages\\torch\\_dynamo\\backends\\common.py\", line 72, in __call__\n",
      "W0103 23:56:55.052000 30900 torch\\_dynamo\\convert_frame.py:1125]     cg = aot_module_simplified(gm, example_inputs, **self.kwargs)\n",
      "W0103 23:56:55.052000 30900 torch\\_dynamo\\convert_frame.py:1125]          ^^^^^^^^^^^^^^^^^^^^^^^^^^^^^^^^^^^^^^^^^^^^^^^^^^^^^^^^\n",
      "W0103 23:56:55.052000 30900 torch\\_dynamo\\convert_frame.py:1125]   File \"C:\\Users\\wexhi\\AppData\\Roaming\\Python\\Python312\\site-packages\\torch\\_functorch\\aot_autograd.py\", line 1071, in aot_module_simplified\n",
      "W0103 23:56:55.052000 30900 torch\\_dynamo\\convert_frame.py:1125]     compiled_fn = dispatch_and_compile()\n",
      "W0103 23:56:55.052000 30900 torch\\_dynamo\\convert_frame.py:1125]                   ^^^^^^^^^^^^^^^^^^^^^^\n",
      "W0103 23:56:55.052000 30900 torch\\_dynamo\\convert_frame.py:1125]   File \"C:\\Users\\wexhi\\AppData\\Roaming\\Python\\Python312\\site-packages\\torch\\_functorch\\aot_autograd.py\", line 1056, in dispatch_and_compile\n",
      "W0103 23:56:55.052000 30900 torch\\_dynamo\\convert_frame.py:1125]     compiled_fn, _ = create_aot_dispatcher_function(\n",
      "W0103 23:56:55.052000 30900 torch\\_dynamo\\convert_frame.py:1125]                      ^^^^^^^^^^^^^^^^^^^^^^^^^^^^^^^\n",
      "W0103 23:56:55.052000 30900 torch\\_dynamo\\convert_frame.py:1125]   File \"C:\\Users\\wexhi\\AppData\\Roaming\\Python\\Python312\\site-packages\\torch\\_functorch\\aot_autograd.py\", line 522, in create_aot_dispatcher_function\n",
      "W0103 23:56:55.052000 30900 torch\\_dynamo\\convert_frame.py:1125]     return _create_aot_dispatcher_function(\n",
      "W0103 23:56:55.052000 30900 torch\\_dynamo\\convert_frame.py:1125]            ^^^^^^^^^^^^^^^^^^^^^^^^^^^^^^^^\n",
      "W0103 23:56:55.052000 30900 torch\\_dynamo\\convert_frame.py:1125]   File \"C:\\Users\\wexhi\\AppData\\Roaming\\Python\\Python312\\site-packages\\torch\\_functorch\\aot_autograd.py\", line 759, in _create_aot_dispatcher_function\n",
      "W0103 23:56:55.052000 30900 torch\\_dynamo\\convert_frame.py:1125]     compiled_fn, fw_metadata = compiler_fn(\n",
      "W0103 23:56:55.052000 30900 torch\\_dynamo\\convert_frame.py:1125]                                ^^^^^^^^^^^^\n",
      "W0103 23:56:55.052000 30900 torch\\_dynamo\\convert_frame.py:1125]   File \"C:\\Users\\wexhi\\AppData\\Roaming\\Python\\Python312\\site-packages\\torch\\_functorch\\_aot_autograd\\jit_compile_runtime_wrappers.py\", line 588, in aot_dispatch_autograd\n",
      "W0103 23:56:55.052000 30900 torch\\_dynamo\\convert_frame.py:1125]     compiled_fw_func = aot_config.fw_compiler(fw_module, adjusted_flat_args)\n",
      "W0103 23:56:55.052000 30900 torch\\_dynamo\\convert_frame.py:1125]                        ^^^^^^^^^^^^^^^^^^^^^^^^^^^^^^^^^^^^^^^^^^^^^^^^^^^^^\n",
      "W0103 23:56:55.052000 30900 torch\\_dynamo\\convert_frame.py:1125]   File \"C:\\Users\\wexhi\\AppData\\Roaming\\Python\\Python312\\site-packages\\torch\\_inductor\\compile_fx.py\", line 1350, in fw_compiler_base\n",
      "W0103 23:56:55.052000 30900 torch\\_dynamo\\convert_frame.py:1125]     return _fw_compiler_base(model, example_inputs, is_inference)\n",
      "W0103 23:56:55.052000 30900 torch\\_dynamo\\convert_frame.py:1125]            ^^^^^^^^^^^^^^^^^^^^^^^^^^^^^^^^^^^^^^^^^^^^^^^^^^^^^^\n",
      "W0103 23:56:55.052000 30900 torch\\_dynamo\\convert_frame.py:1125]   File \"C:\\Users\\wexhi\\AppData\\Roaming\\Python\\Python312\\site-packages\\torch\\_inductor\\compile_fx.py\", line 1421, in _fw_compiler_base\n",
      "W0103 23:56:55.052000 30900 torch\\_dynamo\\convert_frame.py:1125]     return inner_compile(\n",
      "W0103 23:56:55.052000 30900 torch\\_dynamo\\convert_frame.py:1125]            ^^^^^^^^^^^^^^\n",
      "W0103 23:56:55.052000 30900 torch\\_dynamo\\convert_frame.py:1125]   File \"C:\\Users\\wexhi\\AppData\\Roaming\\Python\\Python312\\site-packages\\torch\\_inductor\\compile_fx.py\", line 475, in compile_fx_inner\n",
      "W0103 23:56:55.052000 30900 torch\\_dynamo\\convert_frame.py:1125]     return wrap_compiler_debug(_compile_fx_inner, compiler_name=\"inductor\")(\n",
      "W0103 23:56:55.052000 30900 torch\\_dynamo\\convert_frame.py:1125]            ^^^^^^^^^^^^^^^^^^^^^^^^^^^^^^^^^^^^^^^^^^^^^^^^^^^^^^^^^^^^^^^^^\n",
      "W0103 23:56:55.052000 30900 torch\\_dynamo\\convert_frame.py:1125]   File \"C:\\Users\\wexhi\\AppData\\Roaming\\Python\\Python312\\site-packages\\torch\\_dynamo\\repro\\after_aot.py\", line 85, in debug_wrapper\n",
      "W0103 23:56:55.052000 30900 torch\\_dynamo\\convert_frame.py:1125]     inner_compiled_fn = compiler_fn(gm, example_inputs)\n",
      "W0103 23:56:55.052000 30900 torch\\_dynamo\\convert_frame.py:1125]                         ^^^^^^^^^^^^^^^^^^^^^^^^^^^^^^^\n",
      "W0103 23:56:55.052000 30900 torch\\_dynamo\\convert_frame.py:1125]   File \"C:\\Users\\wexhi\\AppData\\Roaming\\Python\\Python312\\site-packages\\torch\\_inductor\\compile_fx.py\", line 661, in _compile_fx_inner\n",
      "W0103 23:56:55.052000 30900 torch\\_dynamo\\convert_frame.py:1125]     compiled_graph = FxGraphCache.load(\n",
      "W0103 23:56:55.052000 30900 torch\\_dynamo\\convert_frame.py:1125]                      ^^^^^^^^^^^^^^^^^^\n",
      "W0103 23:56:55.052000 30900 torch\\_dynamo\\convert_frame.py:1125]   File \"C:\\Users\\wexhi\\AppData\\Roaming\\Python\\Python312\\site-packages\\torch\\_inductor\\codecache.py\", line 1334, in load\n",
      "W0103 23:56:55.052000 30900 torch\\_dynamo\\convert_frame.py:1125]     compiled_graph = compile_fx_fn(\n",
      "W0103 23:56:55.052000 30900 torch\\_dynamo\\convert_frame.py:1125]                      ^^^^^^^^^^^^^^\n",
      "W0103 23:56:55.052000 30900 torch\\_dynamo\\convert_frame.py:1125]   File \"C:\\Users\\wexhi\\AppData\\Roaming\\Python\\Python312\\site-packages\\torch\\_inductor\\compile_fx.py\", line 570, in codegen_and_compile\n",
      "W0103 23:56:55.052000 30900 torch\\_dynamo\\convert_frame.py:1125]     compiled_graph = fx_codegen_and_compile(gm, example_inputs, **fx_kwargs)\n",
      "W0103 23:56:55.052000 30900 torch\\_dynamo\\convert_frame.py:1125]                      ^^^^^^^^^^^^^^^^^^^^^^^^^^^^^^^^^^^^^^^^^^^^^^^^^^^^^^^\n",
      "W0103 23:56:55.052000 30900 torch\\_dynamo\\convert_frame.py:1125]   File \"C:\\Users\\wexhi\\AppData\\Roaming\\Python\\Python312\\site-packages\\torch\\_inductor\\compile_fx.py\", line 878, in fx_codegen_and_compile\n",
      "W0103 23:56:55.052000 30900 torch\\_dynamo\\convert_frame.py:1125]     compiled_fn = graph.compile_to_fn()\n",
      "W0103 23:56:55.052000 30900 torch\\_dynamo\\convert_frame.py:1125]                   ^^^^^^^^^^^^^^^^^^^^^\n",
      "W0103 23:56:55.052000 30900 torch\\_dynamo\\convert_frame.py:1125]   File \"C:\\Users\\wexhi\\AppData\\Roaming\\Python\\Python312\\site-packages\\torch\\_inductor\\graph.py\", line 1913, in compile_to_fn\n",
      "W0103 23:56:55.052000 30900 torch\\_dynamo\\convert_frame.py:1125]     return self.compile_to_module().call\n",
      "W0103 23:56:55.052000 30900 torch\\_dynamo\\convert_frame.py:1125]            ^^^^^^^^^^^^^^^^^^^^^^^^\n",
      "W0103 23:56:55.052000 30900 torch\\_dynamo\\convert_frame.py:1125]   File \"C:\\Users\\wexhi\\AppData\\Roaming\\Python\\Python312\\site-packages\\torch\\_inductor\\graph.py\", line 1839, in compile_to_module\n",
      "W0103 23:56:55.052000 30900 torch\\_dynamo\\convert_frame.py:1125]     return self._compile_to_module()\n",
      "W0103 23:56:55.052000 30900 torch\\_dynamo\\convert_frame.py:1125]            ^^^^^^^^^^^^^^^^^^^^^^^^^\n",
      "W0103 23:56:55.052000 30900 torch\\_dynamo\\convert_frame.py:1125]   File \"C:\\Users\\wexhi\\AppData\\Roaming\\Python\\Python312\\site-packages\\torch\\_inductor\\graph.py\", line 1845, in _compile_to_module\n",
      "W0103 23:56:55.052000 30900 torch\\_dynamo\\convert_frame.py:1125]     self.codegen_with_cpp_wrapper() if self.cpp_wrapper else self.codegen()\n",
      "W0103 23:56:55.052000 30900 torch\\_dynamo\\convert_frame.py:1125]                                                              ^^^^^^^^^^^^^^\n",
      "W0103 23:56:55.052000 30900 torch\\_dynamo\\convert_frame.py:1125]   File \"C:\\Users\\wexhi\\AppData\\Roaming\\Python\\Python312\\site-packages\\torch\\_inductor\\graph.py\", line 1780, in codegen\n",
      "W0103 23:56:55.052000 30900 torch\\_dynamo\\convert_frame.py:1125]     self.scheduler = Scheduler(self.operations)\n",
      "W0103 23:56:55.052000 30900 torch\\_dynamo\\convert_frame.py:1125]                      ^^^^^^^^^^^^^^^^^^^^^^^^^^\n",
      "W0103 23:56:55.052000 30900 torch\\_dynamo\\convert_frame.py:1125]   File \"C:\\Users\\wexhi\\AppData\\Roaming\\Python\\Python312\\site-packages\\torch\\_inductor\\scheduler.py\", line 1731, in __init__\n",
      "W0103 23:56:55.052000 30900 torch\\_dynamo\\convert_frame.py:1125]     self._init(nodes)\n",
      "W0103 23:56:55.052000 30900 torch\\_dynamo\\convert_frame.py:1125]   File \"C:\\Users\\wexhi\\AppData\\Roaming\\Python\\Python312\\site-packages\\torch\\_inductor\\scheduler.py\", line 1749, in _init\n",
      "W0103 23:56:55.052000 30900 torch\\_dynamo\\convert_frame.py:1125]     self.nodes = [self.create_scheduler_node(n) for n in nodes]\n",
      "W0103 23:56:55.052000 30900 torch\\_dynamo\\convert_frame.py:1125]                   ^^^^^^^^^^^^^^^^^^^^^^^^^^^^^\n",
      "W0103 23:56:55.052000 30900 torch\\_dynamo\\convert_frame.py:1125]   File \"C:\\Users\\wexhi\\AppData\\Roaming\\Python\\Python312\\site-packages\\torch\\_inductor\\scheduler.py\", line 1856, in create_scheduler_node\n",
      "W0103 23:56:55.052000 30900 torch\\_dynamo\\convert_frame.py:1125]     return SchedulerNode(self, node)\n",
      "W0103 23:56:55.052000 30900 torch\\_dynamo\\convert_frame.py:1125]            ^^^^^^^^^^^^^^^^^^^^^^^^^\n",
      "W0103 23:56:55.052000 30900 torch\\_dynamo\\convert_frame.py:1125]   File \"C:\\Users\\wexhi\\AppData\\Roaming\\Python\\Python312\\site-packages\\torch\\_inductor\\scheduler.py\", line 833, in __init__\n",
      "W0103 23:56:55.052000 30900 torch\\_dynamo\\convert_frame.py:1125]     self._compute_attrs()\n",
      "W0103 23:56:55.052000 30900 torch\\_dynamo\\convert_frame.py:1125]   File \"C:\\Users\\wexhi\\AppData\\Roaming\\Python\\Python312\\site-packages\\torch\\_inductor\\scheduler.py\", line 846, in _compute_attrs\n",
      "W0103 23:56:55.052000 30900 torch\\_dynamo\\convert_frame.py:1125]     group_fn = self.scheduler.get_backend(self.node.get_device()).group_fn\n",
      "W0103 23:56:55.052000 30900 torch\\_dynamo\\convert_frame.py:1125]                ^^^^^^^^^^^^^^^^^^^^^^^^^^^^^^^^^^^^^^^^^^^^^^^^^^\n",
      "W0103 23:56:55.052000 30900 torch\\_dynamo\\convert_frame.py:1125]   File \"C:\\Users\\wexhi\\AppData\\Roaming\\Python\\Python312\\site-packages\\torch\\_inductor\\scheduler.py\", line 3360, in get_backend\n",
      "W0103 23:56:55.052000 30900 torch\\_dynamo\\convert_frame.py:1125]     self.backends[device] = self.create_backend(device)\n",
      "W0103 23:56:55.052000 30900 torch\\_dynamo\\convert_frame.py:1125]                             ^^^^^^^^^^^^^^^^^^^^^^^^^^^\n",
      "W0103 23:56:55.052000 30900 torch\\_dynamo\\convert_frame.py:1125]   File \"C:\\Users\\wexhi\\AppData\\Roaming\\Python\\Python312\\site-packages\\torch\\_inductor\\scheduler.py\", line 3352, in create_backend\n",
      "W0103 23:56:55.052000 30900 torch\\_dynamo\\convert_frame.py:1125]     raise RuntimeError(\n",
      "W0103 23:56:55.052000 30900 torch\\_dynamo\\convert_frame.py:1125] RuntimeError: Cannot find a working triton installation. Either the package is not installed or it is too old. More information on installing Triton can be found at https://github.com/openai/triton\n",
      "W0103 23:56:55.052000 30900 torch\\_dynamo\\convert_frame.py:1125] \n",
      "W0103 23:56:55.052000 30900 torch\\_dynamo\\convert_frame.py:1125] The above exception was the direct cause of the following exception:\n",
      "W0103 23:56:55.052000 30900 torch\\_dynamo\\convert_frame.py:1125] \n",
      "W0103 23:56:55.052000 30900 torch\\_dynamo\\convert_frame.py:1125] Traceback (most recent call last):\n",
      "W0103 23:56:55.052000 30900 torch\\_dynamo\\convert_frame.py:1125]   File \"C:\\Users\\wexhi\\AppData\\Roaming\\Python\\Python312\\site-packages\\torch\\_dynamo\\convert_frame.py\", line 1064, in __call__\n",
      "W0103 23:56:55.052000 30900 torch\\_dynamo\\convert_frame.py:1125]     result = self._inner_convert(\n",
      "W0103 23:56:55.052000 30900 torch\\_dynamo\\convert_frame.py:1125]              ^^^^^^^^^^^^^^^^^^^^\n",
      "W0103 23:56:55.052000 30900 torch\\_dynamo\\convert_frame.py:1125]   File \"C:\\Users\\wexhi\\AppData\\Roaming\\Python\\Python312\\site-packages\\torch\\_dynamo\\convert_frame.py\", line 526, in __call__\n",
      "W0103 23:56:55.052000 30900 torch\\_dynamo\\convert_frame.py:1125]     return _compile(\n",
      "W0103 23:56:55.052000 30900 torch\\_dynamo\\convert_frame.py:1125]            ^^^^^^^^^\n",
      "W0103 23:56:55.052000 30900 torch\\_dynamo\\convert_frame.py:1125]   File \"C:\\Users\\wexhi\\AppData\\Roaming\\Python\\Python312\\site-packages\\torch\\_dynamo\\convert_frame.py\", line 924, in _compile\n",
      "W0103 23:56:55.052000 30900 torch\\_dynamo\\convert_frame.py:1125]     guarded_code = compile_inner(code, one_graph, hooks, transform)\n",
      "W0103 23:56:55.052000 30900 torch\\_dynamo\\convert_frame.py:1125]                    ^^^^^^^^^^^^^^^^^^^^^^^^^^^^^^^^^^^^^^^^^^^^^^^^\n",
      "W0103 23:56:55.052000 30900 torch\\_dynamo\\convert_frame.py:1125]   File \"C:\\Users\\wexhi\\AppData\\Roaming\\Python\\Python312\\site-packages\\torch\\_dynamo\\convert_frame.py\", line 666, in compile_inner\n",
      "W0103 23:56:55.052000 30900 torch\\_dynamo\\convert_frame.py:1125]     return _compile_inner(code, one_graph, hooks, transform)\n",
      "W0103 23:56:55.052000 30900 torch\\_dynamo\\convert_frame.py:1125]            ^^^^^^^^^^^^^^^^^^^^^^^^^^^^^^^^^^^^^^^^^^^^^^^^^\n",
      "W0103 23:56:55.052000 30900 torch\\_dynamo\\convert_frame.py:1125]   File \"C:\\Users\\wexhi\\AppData\\Roaming\\Python\\Python312\\site-packages\\torch\\_utils_internal.py\", line 87, in wrapper_function\n",
      "W0103 23:56:55.052000 30900 torch\\_dynamo\\convert_frame.py:1125]     return function(*args, **kwargs)\n",
      "W0103 23:56:55.052000 30900 torch\\_dynamo\\convert_frame.py:1125]            ^^^^^^^^^^^^^^^^^^^^^^^^^\n",
      "W0103 23:56:55.052000 30900 torch\\_dynamo\\convert_frame.py:1125]   File \"C:\\Users\\wexhi\\AppData\\Roaming\\Python\\Python312\\site-packages\\torch\\_dynamo\\convert_frame.py\", line 699, in _compile_inner\n",
      "W0103 23:56:55.052000 30900 torch\\_dynamo\\convert_frame.py:1125]     out_code = transform_code_object(code, transform)\n",
      "W0103 23:56:55.052000 30900 torch\\_dynamo\\convert_frame.py:1125]                ^^^^^^^^^^^^^^^^^^^^^^^^^^^^^^^^^^^^^^\n",
      "W0103 23:56:55.052000 30900 torch\\_dynamo\\convert_frame.py:1125]   File \"C:\\Users\\wexhi\\AppData\\Roaming\\Python\\Python312\\site-packages\\torch\\_dynamo\\bytecode_transformation.py\", line 1322, in transform_code_object\n",
      "W0103 23:56:55.052000 30900 torch\\_dynamo\\convert_frame.py:1125]     transformations(instructions, code_options)\n",
      "W0103 23:56:55.052000 30900 torch\\_dynamo\\convert_frame.py:1125]   File \"C:\\Users\\wexhi\\AppData\\Roaming\\Python\\Python312\\site-packages\\torch\\_dynamo\\convert_frame.py\", line 219, in _fn\n",
      "W0103 23:56:55.052000 30900 torch\\_dynamo\\convert_frame.py:1125]     return fn(*args, **kwargs)\n",
      "W0103 23:56:55.052000 30900 torch\\_dynamo\\convert_frame.py:1125]            ^^^^^^^^^^^^^^^^^^^\n",
      "W0103 23:56:55.052000 30900 torch\\_dynamo\\convert_frame.py:1125]   File \"C:\\Users\\wexhi\\AppData\\Roaming\\Python\\Python312\\site-packages\\torch\\_dynamo\\convert_frame.py\", line 634, in transform\n",
      "W0103 23:56:55.052000 30900 torch\\_dynamo\\convert_frame.py:1125]     tracer.run()\n",
      "W0103 23:56:55.052000 30900 torch\\_dynamo\\convert_frame.py:1125]   File \"C:\\Users\\wexhi\\AppData\\Roaming\\Python\\Python312\\site-packages\\torch\\_dynamo\\symbolic_convert.py\", line 2796, in run\n",
      "W0103 23:56:55.052000 30900 torch\\_dynamo\\convert_frame.py:1125]     super().run()\n",
      "W0103 23:56:55.052000 30900 torch\\_dynamo\\convert_frame.py:1125]   File \"C:\\Users\\wexhi\\AppData\\Roaming\\Python\\Python312\\site-packages\\torch\\_dynamo\\symbolic_convert.py\", line 983, in run\n",
      "W0103 23:56:55.052000 30900 torch\\_dynamo\\convert_frame.py:1125]     while self.step():\n",
      "W0103 23:56:55.052000 30900 torch\\_dynamo\\convert_frame.py:1125]           ^^^^^^^^^^^\n",
      "W0103 23:56:55.052000 30900 torch\\_dynamo\\convert_frame.py:1125]   File \"C:\\Users\\wexhi\\AppData\\Roaming\\Python\\Python312\\site-packages\\torch\\_dynamo\\symbolic_convert.py\", line 895, in step\n",
      "W0103 23:56:55.052000 30900 torch\\_dynamo\\convert_frame.py:1125]     self.dispatch_table[inst.opcode](self, inst)\n",
      "W0103 23:56:55.052000 30900 torch\\_dynamo\\convert_frame.py:1125]   File \"C:\\Users\\wexhi\\AppData\\Roaming\\Python\\Python312\\site-packages\\torch\\_dynamo\\symbolic_convert.py\", line 2987, in RETURN_VALUE\n",
      "W0103 23:56:55.052000 30900 torch\\_dynamo\\convert_frame.py:1125]     self._return(inst)\n",
      "W0103 23:56:55.052000 30900 torch\\_dynamo\\convert_frame.py:1125]   File \"C:\\Users\\wexhi\\AppData\\Roaming\\Python\\Python312\\site-packages\\torch\\_dynamo\\symbolic_convert.py\", line 2972, in _return\n",
      "W0103 23:56:55.052000 30900 torch\\_dynamo\\convert_frame.py:1125]     self.output.compile_subgraph(\n",
      "W0103 23:56:55.052000 30900 torch\\_dynamo\\convert_frame.py:1125]   File \"C:\\Users\\wexhi\\AppData\\Roaming\\Python\\Python312\\site-packages\\torch\\_dynamo\\output_graph.py\", line 1117, in compile_subgraph\n",
      "W0103 23:56:55.052000 30900 torch\\_dynamo\\convert_frame.py:1125]     self.compile_and_call_fx_graph(tx, list(reversed(stack_values)), root)\n",
      "W0103 23:56:55.052000 30900 torch\\_dynamo\\convert_frame.py:1125]   File \"C:\\Users\\wexhi\\AppData\\Roaming\\Python\\Python312\\site-packages\\torch\\_dynamo\\output_graph.py\", line 1369, in compile_and_call_fx_graph\n",
      "W0103 23:56:55.052000 30900 torch\\_dynamo\\convert_frame.py:1125]     compiled_fn = self.call_user_compiler(gm)\n",
      "W0103 23:56:55.052000 30900 torch\\_dynamo\\convert_frame.py:1125]                   ^^^^^^^^^^^^^^^^^^^^^^^^^^^\n",
      "W0103 23:56:55.052000 30900 torch\\_dynamo\\convert_frame.py:1125]   File \"C:\\Users\\wexhi\\AppData\\Roaming\\Python\\Python312\\site-packages\\torch\\_dynamo\\output_graph.py\", line 1416, in call_user_compiler\n",
      "W0103 23:56:55.052000 30900 torch\\_dynamo\\convert_frame.py:1125]     return self._call_user_compiler(gm)\n",
      "W0103 23:56:55.052000 30900 torch\\_dynamo\\convert_frame.py:1125]            ^^^^^^^^^^^^^^^^^^^^^^^^^^^^\n",
      "W0103 23:56:55.052000 30900 torch\\_dynamo\\convert_frame.py:1125]   File \"C:\\Users\\wexhi\\AppData\\Roaming\\Python\\Python312\\site-packages\\torch\\_dynamo\\output_graph.py\", line 1465, in _call_user_compiler\n",
      "W0103 23:56:55.052000 30900 torch\\_dynamo\\convert_frame.py:1125]     raise BackendCompilerFailed(self.compiler_fn, e) from e\n",
      "W0103 23:56:55.052000 30900 torch\\_dynamo\\convert_frame.py:1125] torch._dynamo.exc.BackendCompilerFailed: backend='inductor' raised:\n",
      "W0103 23:56:55.052000 30900 torch\\_dynamo\\convert_frame.py:1125] RuntimeError: Cannot find a working triton installation. Either the package is not installed or it is too old. More information on installing Triton can be found at https://github.com/openai/triton\n",
      "W0103 23:56:55.052000 30900 torch\\_dynamo\\convert_frame.py:1125] \n",
      "W0103 23:56:55.052000 30900 torch\\_dynamo\\convert_frame.py:1125] Set TORCH_LOGS=\"+dynamo\" and TORCHDYNAMO_VERBOSE=1 for more information\n",
      "W0103 23:56:55.052000 30900 torch\\_dynamo\\convert_frame.py:1125] \n",
      "W0103 23:56:55.346000 30900 torch\\_dynamo\\convert_frame.py:1125] WON'T CONVERT forward C:\\Users\\wexhi\\AppData\\Local\\Temp\\ipykernel_30900\\2518120624.py line 14 \n",
      "W0103 23:56:55.346000 30900 torch\\_dynamo\\convert_frame.py:1125] due to: \n",
      "W0103 23:56:55.346000 30900 torch\\_dynamo\\convert_frame.py:1125] Traceback (most recent call last):\n",
      "W0103 23:56:55.346000 30900 torch\\_dynamo\\convert_frame.py:1125]   File \"C:\\Users\\wexhi\\AppData\\Roaming\\Python\\Python312\\site-packages\\torch\\_dynamo\\output_graph.py\", line 1446, in _call_user_compiler\n",
      "W0103 23:56:55.346000 30900 torch\\_dynamo\\convert_frame.py:1125]     compiled_fn = compiler_fn(gm, self.example_inputs())\n",
      "W0103 23:56:55.346000 30900 torch\\_dynamo\\convert_frame.py:1125]                   ^^^^^^^^^^^^^^^^^^^^^^^^^^^^^^^^^^^^^^\n",
      "W0103 23:56:55.346000 30900 torch\\_dynamo\\convert_frame.py:1125]   File \"C:\\Users\\wexhi\\AppData\\Roaming\\Python\\Python312\\site-packages\\torch\\_dynamo\\repro\\after_dynamo.py\", line 129, in __call__\n",
      "W0103 23:56:55.346000 30900 torch\\_dynamo\\convert_frame.py:1125]     compiled_gm = compiler_fn(gm, example_inputs)\n",
      "W0103 23:56:55.346000 30900 torch\\_dynamo\\convert_frame.py:1125]                   ^^^^^^^^^^^^^^^^^^^^^^^^^^^^^^^\n",
      "W0103 23:56:55.346000 30900 torch\\_dynamo\\convert_frame.py:1125]   File \"C:\\Users\\wexhi\\AppData\\Roaming\\Python\\Python312\\site-packages\\torch\\__init__.py\", line 2234, in __call__\n",
      "W0103 23:56:55.346000 30900 torch\\_dynamo\\convert_frame.py:1125]     return compile_fx(model_, inputs_, config_patches=self.config)\n",
      "W0103 23:56:55.346000 30900 torch\\_dynamo\\convert_frame.py:1125]            ^^^^^^^^^^^^^^^^^^^^^^^^^^^^^^^^^^^^^^^^^^^^^^^^^^^^^^^\n",
      "W0103 23:56:55.346000 30900 torch\\_dynamo\\convert_frame.py:1125]   File \"C:\\Users\\wexhi\\AppData\\Roaming\\Python\\Python312\\site-packages\\torch\\_inductor\\compile_fx.py\", line 1521, in compile_fx\n",
      "W0103 23:56:55.346000 30900 torch\\_dynamo\\convert_frame.py:1125]     return aot_autograd(\n",
      "W0103 23:56:55.346000 30900 torch\\_dynamo\\convert_frame.py:1125]            ^^^^^^^^^^^^^\n",
      "W0103 23:56:55.346000 30900 torch\\_dynamo\\convert_frame.py:1125]   File \"C:\\Users\\wexhi\\AppData\\Roaming\\Python\\Python312\\site-packages\\torch\\_dynamo\\backends\\common.py\", line 72, in __call__\n",
      "W0103 23:56:55.346000 30900 torch\\_dynamo\\convert_frame.py:1125]     cg = aot_module_simplified(gm, example_inputs, **self.kwargs)\n",
      "W0103 23:56:55.346000 30900 torch\\_dynamo\\convert_frame.py:1125]          ^^^^^^^^^^^^^^^^^^^^^^^^^^^^^^^^^^^^^^^^^^^^^^^^^^^^^^^^\n",
      "W0103 23:56:55.346000 30900 torch\\_dynamo\\convert_frame.py:1125]   File \"C:\\Users\\wexhi\\AppData\\Roaming\\Python\\Python312\\site-packages\\torch\\_functorch\\aot_autograd.py\", line 1071, in aot_module_simplified\n",
      "W0103 23:56:55.346000 30900 torch\\_dynamo\\convert_frame.py:1125]     compiled_fn = dispatch_and_compile()\n",
      "W0103 23:56:55.346000 30900 torch\\_dynamo\\convert_frame.py:1125]                   ^^^^^^^^^^^^^^^^^^^^^^\n",
      "W0103 23:56:55.346000 30900 torch\\_dynamo\\convert_frame.py:1125]   File \"C:\\Users\\wexhi\\AppData\\Roaming\\Python\\Python312\\site-packages\\torch\\_functorch\\aot_autograd.py\", line 1056, in dispatch_and_compile\n",
      "W0103 23:56:55.346000 30900 torch\\_dynamo\\convert_frame.py:1125]     compiled_fn, _ = create_aot_dispatcher_function(\n",
      "W0103 23:56:55.346000 30900 torch\\_dynamo\\convert_frame.py:1125]                      ^^^^^^^^^^^^^^^^^^^^^^^^^^^^^^^\n",
      "W0103 23:56:55.346000 30900 torch\\_dynamo\\convert_frame.py:1125]   File \"C:\\Users\\wexhi\\AppData\\Roaming\\Python\\Python312\\site-packages\\torch\\_functorch\\aot_autograd.py\", line 522, in create_aot_dispatcher_function\n",
      "W0103 23:56:55.346000 30900 torch\\_dynamo\\convert_frame.py:1125]     return _create_aot_dispatcher_function(\n",
      "W0103 23:56:55.346000 30900 torch\\_dynamo\\convert_frame.py:1125]            ^^^^^^^^^^^^^^^^^^^^^^^^^^^^^^^^\n",
      "W0103 23:56:55.346000 30900 torch\\_dynamo\\convert_frame.py:1125]   File \"C:\\Users\\wexhi\\AppData\\Roaming\\Python\\Python312\\site-packages\\torch\\_functorch\\aot_autograd.py\", line 759, in _create_aot_dispatcher_function\n",
      "W0103 23:56:55.346000 30900 torch\\_dynamo\\convert_frame.py:1125]     compiled_fn, fw_metadata = compiler_fn(\n",
      "W0103 23:56:55.346000 30900 torch\\_dynamo\\convert_frame.py:1125]                                ^^^^^^^^^^^^\n",
      "W0103 23:56:55.346000 30900 torch\\_dynamo\\convert_frame.py:1125]   File \"C:\\Users\\wexhi\\AppData\\Roaming\\Python\\Python312\\site-packages\\torch\\_functorch\\_aot_autograd\\jit_compile_runtime_wrappers.py\", line 588, in aot_dispatch_autograd\n",
      "W0103 23:56:55.346000 30900 torch\\_dynamo\\convert_frame.py:1125]     compiled_fw_func = aot_config.fw_compiler(fw_module, adjusted_flat_args)\n",
      "W0103 23:56:55.346000 30900 torch\\_dynamo\\convert_frame.py:1125]                        ^^^^^^^^^^^^^^^^^^^^^^^^^^^^^^^^^^^^^^^^^^^^^^^^^^^^^\n",
      "W0103 23:56:55.346000 30900 torch\\_dynamo\\convert_frame.py:1125]   File \"C:\\Users\\wexhi\\AppData\\Roaming\\Python\\Python312\\site-packages\\torch\\_inductor\\compile_fx.py\", line 1350, in fw_compiler_base\n",
      "W0103 23:56:55.346000 30900 torch\\_dynamo\\convert_frame.py:1125]     return _fw_compiler_base(model, example_inputs, is_inference)\n",
      "W0103 23:56:55.346000 30900 torch\\_dynamo\\convert_frame.py:1125]            ^^^^^^^^^^^^^^^^^^^^^^^^^^^^^^^^^^^^^^^^^^^^^^^^^^^^^^\n",
      "W0103 23:56:55.346000 30900 torch\\_dynamo\\convert_frame.py:1125]   File \"C:\\Users\\wexhi\\AppData\\Roaming\\Python\\Python312\\site-packages\\torch\\_inductor\\compile_fx.py\", line 1421, in _fw_compiler_base\n",
      "W0103 23:56:55.346000 30900 torch\\_dynamo\\convert_frame.py:1125]     return inner_compile(\n",
      "W0103 23:56:55.346000 30900 torch\\_dynamo\\convert_frame.py:1125]            ^^^^^^^^^^^^^^\n",
      "W0103 23:56:55.346000 30900 torch\\_dynamo\\convert_frame.py:1125]   File \"C:\\Users\\wexhi\\AppData\\Roaming\\Python\\Python312\\site-packages\\torch\\_inductor\\compile_fx.py\", line 475, in compile_fx_inner\n",
      "W0103 23:56:55.346000 30900 torch\\_dynamo\\convert_frame.py:1125]     return wrap_compiler_debug(_compile_fx_inner, compiler_name=\"inductor\")(\n",
      "W0103 23:56:55.346000 30900 torch\\_dynamo\\convert_frame.py:1125]            ^^^^^^^^^^^^^^^^^^^^^^^^^^^^^^^^^^^^^^^^^^^^^^^^^^^^^^^^^^^^^^^^^\n",
      "W0103 23:56:55.346000 30900 torch\\_dynamo\\convert_frame.py:1125]   File \"C:\\Users\\wexhi\\AppData\\Roaming\\Python\\Python312\\site-packages\\torch\\_dynamo\\repro\\after_aot.py\", line 85, in debug_wrapper\n",
      "W0103 23:56:55.346000 30900 torch\\_dynamo\\convert_frame.py:1125]     inner_compiled_fn = compiler_fn(gm, example_inputs)\n",
      "W0103 23:56:55.346000 30900 torch\\_dynamo\\convert_frame.py:1125]                         ^^^^^^^^^^^^^^^^^^^^^^^^^^^^^^^\n",
      "W0103 23:56:55.346000 30900 torch\\_dynamo\\convert_frame.py:1125]   File \"C:\\Users\\wexhi\\AppData\\Roaming\\Python\\Python312\\site-packages\\torch\\_inductor\\compile_fx.py\", line 661, in _compile_fx_inner\n",
      "W0103 23:56:55.346000 30900 torch\\_dynamo\\convert_frame.py:1125]     compiled_graph = FxGraphCache.load(\n",
      "W0103 23:56:55.346000 30900 torch\\_dynamo\\convert_frame.py:1125]                      ^^^^^^^^^^^^^^^^^^\n",
      "W0103 23:56:55.346000 30900 torch\\_dynamo\\convert_frame.py:1125]   File \"C:\\Users\\wexhi\\AppData\\Roaming\\Python\\Python312\\site-packages\\torch\\_inductor\\codecache.py\", line 1334, in load\n",
      "W0103 23:56:55.346000 30900 torch\\_dynamo\\convert_frame.py:1125]     compiled_graph = compile_fx_fn(\n",
      "W0103 23:56:55.346000 30900 torch\\_dynamo\\convert_frame.py:1125]                      ^^^^^^^^^^^^^^\n",
      "W0103 23:56:55.346000 30900 torch\\_dynamo\\convert_frame.py:1125]   File \"C:\\Users\\wexhi\\AppData\\Roaming\\Python\\Python312\\site-packages\\torch\\_inductor\\compile_fx.py\", line 570, in codegen_and_compile\n",
      "W0103 23:56:55.346000 30900 torch\\_dynamo\\convert_frame.py:1125]     compiled_graph = fx_codegen_and_compile(gm, example_inputs, **fx_kwargs)\n",
      "W0103 23:56:55.346000 30900 torch\\_dynamo\\convert_frame.py:1125]                      ^^^^^^^^^^^^^^^^^^^^^^^^^^^^^^^^^^^^^^^^^^^^^^^^^^^^^^^\n",
      "W0103 23:56:55.346000 30900 torch\\_dynamo\\convert_frame.py:1125]   File \"C:\\Users\\wexhi\\AppData\\Roaming\\Python\\Python312\\site-packages\\torch\\_inductor\\compile_fx.py\", line 878, in fx_codegen_and_compile\n",
      "W0103 23:56:55.346000 30900 torch\\_dynamo\\convert_frame.py:1125]     compiled_fn = graph.compile_to_fn()\n",
      "W0103 23:56:55.346000 30900 torch\\_dynamo\\convert_frame.py:1125]                   ^^^^^^^^^^^^^^^^^^^^^\n",
      "W0103 23:56:55.346000 30900 torch\\_dynamo\\convert_frame.py:1125]   File \"C:\\Users\\wexhi\\AppData\\Roaming\\Python\\Python312\\site-packages\\torch\\_inductor\\graph.py\", line 1913, in compile_to_fn\n",
      "W0103 23:56:55.346000 30900 torch\\_dynamo\\convert_frame.py:1125]     return self.compile_to_module().call\n",
      "W0103 23:56:55.346000 30900 torch\\_dynamo\\convert_frame.py:1125]            ^^^^^^^^^^^^^^^^^^^^^^^^\n",
      "W0103 23:56:55.346000 30900 torch\\_dynamo\\convert_frame.py:1125]   File \"C:\\Users\\wexhi\\AppData\\Roaming\\Python\\Python312\\site-packages\\torch\\_inductor\\graph.py\", line 1839, in compile_to_module\n",
      "W0103 23:56:55.346000 30900 torch\\_dynamo\\convert_frame.py:1125]     return self._compile_to_module()\n",
      "W0103 23:56:55.346000 30900 torch\\_dynamo\\convert_frame.py:1125]            ^^^^^^^^^^^^^^^^^^^^^^^^^\n",
      "W0103 23:56:55.346000 30900 torch\\_dynamo\\convert_frame.py:1125]   File \"C:\\Users\\wexhi\\AppData\\Roaming\\Python\\Python312\\site-packages\\torch\\_inductor\\graph.py\", line 1845, in _compile_to_module\n",
      "W0103 23:56:55.346000 30900 torch\\_dynamo\\convert_frame.py:1125]     self.codegen_with_cpp_wrapper() if self.cpp_wrapper else self.codegen()\n",
      "W0103 23:56:55.346000 30900 torch\\_dynamo\\convert_frame.py:1125]                                                              ^^^^^^^^^^^^^^\n",
      "W0103 23:56:55.346000 30900 torch\\_dynamo\\convert_frame.py:1125]   File \"C:\\Users\\wexhi\\AppData\\Roaming\\Python\\Python312\\site-packages\\torch\\_inductor\\graph.py\", line 1780, in codegen\n",
      "W0103 23:56:55.346000 30900 torch\\_dynamo\\convert_frame.py:1125]     self.scheduler = Scheduler(self.operations)\n",
      "W0103 23:56:55.346000 30900 torch\\_dynamo\\convert_frame.py:1125]                      ^^^^^^^^^^^^^^^^^^^^^^^^^^\n",
      "W0103 23:56:55.346000 30900 torch\\_dynamo\\convert_frame.py:1125]   File \"C:\\Users\\wexhi\\AppData\\Roaming\\Python\\Python312\\site-packages\\torch\\_inductor\\scheduler.py\", line 1731, in __init__\n",
      "W0103 23:56:55.346000 30900 torch\\_dynamo\\convert_frame.py:1125]     self._init(nodes)\n",
      "W0103 23:56:55.346000 30900 torch\\_dynamo\\convert_frame.py:1125]   File \"C:\\Users\\wexhi\\AppData\\Roaming\\Python\\Python312\\site-packages\\torch\\_inductor\\scheduler.py\", line 1749, in _init\n",
      "W0103 23:56:55.346000 30900 torch\\_dynamo\\convert_frame.py:1125]     self.nodes = [self.create_scheduler_node(n) for n in nodes]\n",
      "W0103 23:56:55.346000 30900 torch\\_dynamo\\convert_frame.py:1125]                   ^^^^^^^^^^^^^^^^^^^^^^^^^^^^^\n",
      "W0103 23:56:55.346000 30900 torch\\_dynamo\\convert_frame.py:1125]   File \"C:\\Users\\wexhi\\AppData\\Roaming\\Python\\Python312\\site-packages\\torch\\_inductor\\scheduler.py\", line 1856, in create_scheduler_node\n",
      "W0103 23:56:55.346000 30900 torch\\_dynamo\\convert_frame.py:1125]     return SchedulerNode(self, node)\n",
      "W0103 23:56:55.346000 30900 torch\\_dynamo\\convert_frame.py:1125]            ^^^^^^^^^^^^^^^^^^^^^^^^^\n",
      "W0103 23:56:55.346000 30900 torch\\_dynamo\\convert_frame.py:1125]   File \"C:\\Users\\wexhi\\AppData\\Roaming\\Python\\Python312\\site-packages\\torch\\_inductor\\scheduler.py\", line 833, in __init__\n",
      "W0103 23:56:55.346000 30900 torch\\_dynamo\\convert_frame.py:1125]     self._compute_attrs()\n",
      "W0103 23:56:55.346000 30900 torch\\_dynamo\\convert_frame.py:1125]   File \"C:\\Users\\wexhi\\AppData\\Roaming\\Python\\Python312\\site-packages\\torch\\_inductor\\scheduler.py\", line 846, in _compute_attrs\n",
      "W0103 23:56:55.346000 30900 torch\\_dynamo\\convert_frame.py:1125]     group_fn = self.scheduler.get_backend(self.node.get_device()).group_fn\n",
      "W0103 23:56:55.346000 30900 torch\\_dynamo\\convert_frame.py:1125]                ^^^^^^^^^^^^^^^^^^^^^^^^^^^^^^^^^^^^^^^^^^^^^^^^^^\n",
      "W0103 23:56:55.346000 30900 torch\\_dynamo\\convert_frame.py:1125]   File \"C:\\Users\\wexhi\\AppData\\Roaming\\Python\\Python312\\site-packages\\torch\\_inductor\\scheduler.py\", line 3360, in get_backend\n",
      "W0103 23:56:55.346000 30900 torch\\_dynamo\\convert_frame.py:1125]     self.backends[device] = self.create_backend(device)\n",
      "W0103 23:56:55.346000 30900 torch\\_dynamo\\convert_frame.py:1125]                             ^^^^^^^^^^^^^^^^^^^^^^^^^^^\n",
      "W0103 23:56:55.346000 30900 torch\\_dynamo\\convert_frame.py:1125]   File \"C:\\Users\\wexhi\\AppData\\Roaming\\Python\\Python312\\site-packages\\torch\\_inductor\\scheduler.py\", line 3352, in create_backend\n",
      "W0103 23:56:55.346000 30900 torch\\_dynamo\\convert_frame.py:1125]     raise RuntimeError(\n",
      "W0103 23:56:55.346000 30900 torch\\_dynamo\\convert_frame.py:1125] RuntimeError: Cannot find a working triton installation. Either the package is not installed or it is too old. More information on installing Triton can be found at https://github.com/openai/triton\n",
      "W0103 23:56:55.346000 30900 torch\\_dynamo\\convert_frame.py:1125] \n",
      "W0103 23:56:55.346000 30900 torch\\_dynamo\\convert_frame.py:1125] The above exception was the direct cause of the following exception:\n",
      "W0103 23:56:55.346000 30900 torch\\_dynamo\\convert_frame.py:1125] \n",
      "W0103 23:56:55.346000 30900 torch\\_dynamo\\convert_frame.py:1125] Traceback (most recent call last):\n",
      "W0103 23:56:55.346000 30900 torch\\_dynamo\\convert_frame.py:1125]   File \"C:\\Users\\wexhi\\AppData\\Roaming\\Python\\Python312\\site-packages\\torch\\_dynamo\\convert_frame.py\", line 1064, in __call__\n",
      "W0103 23:56:55.346000 30900 torch\\_dynamo\\convert_frame.py:1125]     result = self._inner_convert(\n",
      "W0103 23:56:55.346000 30900 torch\\_dynamo\\convert_frame.py:1125]              ^^^^^^^^^^^^^^^^^^^^\n",
      "W0103 23:56:55.346000 30900 torch\\_dynamo\\convert_frame.py:1125]   File \"C:\\Users\\wexhi\\AppData\\Roaming\\Python\\Python312\\site-packages\\torch\\_dynamo\\convert_frame.py\", line 526, in __call__\n",
      "W0103 23:56:55.346000 30900 torch\\_dynamo\\convert_frame.py:1125]     return _compile(\n",
      "W0103 23:56:55.346000 30900 torch\\_dynamo\\convert_frame.py:1125]            ^^^^^^^^^\n",
      "W0103 23:56:55.346000 30900 torch\\_dynamo\\convert_frame.py:1125]   File \"C:\\Users\\wexhi\\AppData\\Roaming\\Python\\Python312\\site-packages\\torch\\_dynamo\\convert_frame.py\", line 924, in _compile\n",
      "W0103 23:56:55.346000 30900 torch\\_dynamo\\convert_frame.py:1125]     guarded_code = compile_inner(code, one_graph, hooks, transform)\n",
      "W0103 23:56:55.346000 30900 torch\\_dynamo\\convert_frame.py:1125]                    ^^^^^^^^^^^^^^^^^^^^^^^^^^^^^^^^^^^^^^^^^^^^^^^^\n",
      "W0103 23:56:55.346000 30900 torch\\_dynamo\\convert_frame.py:1125]   File \"C:\\Users\\wexhi\\AppData\\Roaming\\Python\\Python312\\site-packages\\torch\\_dynamo\\convert_frame.py\", line 666, in compile_inner\n",
      "W0103 23:56:55.346000 30900 torch\\_dynamo\\convert_frame.py:1125]     return _compile_inner(code, one_graph, hooks, transform)\n",
      "W0103 23:56:55.346000 30900 torch\\_dynamo\\convert_frame.py:1125]            ^^^^^^^^^^^^^^^^^^^^^^^^^^^^^^^^^^^^^^^^^^^^^^^^^\n",
      "W0103 23:56:55.346000 30900 torch\\_dynamo\\convert_frame.py:1125]   File \"C:\\Users\\wexhi\\AppData\\Roaming\\Python\\Python312\\site-packages\\torch\\_utils_internal.py\", line 87, in wrapper_function\n",
      "W0103 23:56:55.346000 30900 torch\\_dynamo\\convert_frame.py:1125]     return function(*args, **kwargs)\n",
      "W0103 23:56:55.346000 30900 torch\\_dynamo\\convert_frame.py:1125]            ^^^^^^^^^^^^^^^^^^^^^^^^^\n",
      "W0103 23:56:55.346000 30900 torch\\_dynamo\\convert_frame.py:1125]   File \"C:\\Users\\wexhi\\AppData\\Roaming\\Python\\Python312\\site-packages\\torch\\_dynamo\\convert_frame.py\", line 699, in _compile_inner\n",
      "W0103 23:56:55.346000 30900 torch\\_dynamo\\convert_frame.py:1125]     out_code = transform_code_object(code, transform)\n",
      "W0103 23:56:55.346000 30900 torch\\_dynamo\\convert_frame.py:1125]                ^^^^^^^^^^^^^^^^^^^^^^^^^^^^^^^^^^^^^^\n",
      "W0103 23:56:55.346000 30900 torch\\_dynamo\\convert_frame.py:1125]   File \"C:\\Users\\wexhi\\AppData\\Roaming\\Python\\Python312\\site-packages\\torch\\_dynamo\\bytecode_transformation.py\", line 1322, in transform_code_object\n",
      "W0103 23:56:55.346000 30900 torch\\_dynamo\\convert_frame.py:1125]     transformations(instructions, code_options)\n",
      "W0103 23:56:55.346000 30900 torch\\_dynamo\\convert_frame.py:1125]   File \"C:\\Users\\wexhi\\AppData\\Roaming\\Python\\Python312\\site-packages\\torch\\_dynamo\\convert_frame.py\", line 219, in _fn\n",
      "W0103 23:56:55.346000 30900 torch\\_dynamo\\convert_frame.py:1125]     return fn(*args, **kwargs)\n",
      "W0103 23:56:55.346000 30900 torch\\_dynamo\\convert_frame.py:1125]            ^^^^^^^^^^^^^^^^^^^\n",
      "W0103 23:56:55.346000 30900 torch\\_dynamo\\convert_frame.py:1125]   File \"C:\\Users\\wexhi\\AppData\\Roaming\\Python\\Python312\\site-packages\\torch\\_dynamo\\convert_frame.py\", line 634, in transform\n",
      "W0103 23:56:55.346000 30900 torch\\_dynamo\\convert_frame.py:1125]     tracer.run()\n",
      "W0103 23:56:55.346000 30900 torch\\_dynamo\\convert_frame.py:1125]   File \"C:\\Users\\wexhi\\AppData\\Roaming\\Python\\Python312\\site-packages\\torch\\_dynamo\\symbolic_convert.py\", line 2796, in run\n",
      "W0103 23:56:55.346000 30900 torch\\_dynamo\\convert_frame.py:1125]     super().run()\n",
      "W0103 23:56:55.346000 30900 torch\\_dynamo\\convert_frame.py:1125]   File \"C:\\Users\\wexhi\\AppData\\Roaming\\Python\\Python312\\site-packages\\torch\\_dynamo\\symbolic_convert.py\", line 983, in run\n",
      "W0103 23:56:55.346000 30900 torch\\_dynamo\\convert_frame.py:1125]     while self.step():\n",
      "W0103 23:56:55.346000 30900 torch\\_dynamo\\convert_frame.py:1125]           ^^^^^^^^^^^\n",
      "W0103 23:56:55.346000 30900 torch\\_dynamo\\convert_frame.py:1125]   File \"C:\\Users\\wexhi\\AppData\\Roaming\\Python\\Python312\\site-packages\\torch\\_dynamo\\symbolic_convert.py\", line 895, in step\n",
      "W0103 23:56:55.346000 30900 torch\\_dynamo\\convert_frame.py:1125]     self.dispatch_table[inst.opcode](self, inst)\n",
      "W0103 23:56:55.346000 30900 torch\\_dynamo\\convert_frame.py:1125]   File \"C:\\Users\\wexhi\\AppData\\Roaming\\Python\\Python312\\site-packages\\torch\\_dynamo\\symbolic_convert.py\", line 2987, in RETURN_VALUE\n",
      "W0103 23:56:55.346000 30900 torch\\_dynamo\\convert_frame.py:1125]     self._return(inst)\n",
      "W0103 23:56:55.346000 30900 torch\\_dynamo\\convert_frame.py:1125]   File \"C:\\Users\\wexhi\\AppData\\Roaming\\Python\\Python312\\site-packages\\torch\\_dynamo\\symbolic_convert.py\", line 2972, in _return\n",
      "W0103 23:56:55.346000 30900 torch\\_dynamo\\convert_frame.py:1125]     self.output.compile_subgraph(\n",
      "W0103 23:56:55.346000 30900 torch\\_dynamo\\convert_frame.py:1125]   File \"C:\\Users\\wexhi\\AppData\\Roaming\\Python\\Python312\\site-packages\\torch\\_dynamo\\output_graph.py\", line 1117, in compile_subgraph\n",
      "W0103 23:56:55.346000 30900 torch\\_dynamo\\convert_frame.py:1125]     self.compile_and_call_fx_graph(tx, list(reversed(stack_values)), root)\n",
      "W0103 23:56:55.346000 30900 torch\\_dynamo\\convert_frame.py:1125]   File \"C:\\Users\\wexhi\\AppData\\Roaming\\Python\\Python312\\site-packages\\torch\\_dynamo\\output_graph.py\", line 1369, in compile_and_call_fx_graph\n",
      "W0103 23:56:55.346000 30900 torch\\_dynamo\\convert_frame.py:1125]     compiled_fn = self.call_user_compiler(gm)\n",
      "W0103 23:56:55.346000 30900 torch\\_dynamo\\convert_frame.py:1125]                   ^^^^^^^^^^^^^^^^^^^^^^^^^^^\n",
      "W0103 23:56:55.346000 30900 torch\\_dynamo\\convert_frame.py:1125]   File \"C:\\Users\\wexhi\\AppData\\Roaming\\Python\\Python312\\site-packages\\torch\\_dynamo\\output_graph.py\", line 1416, in call_user_compiler\n",
      "W0103 23:56:55.346000 30900 torch\\_dynamo\\convert_frame.py:1125]     return self._call_user_compiler(gm)\n",
      "W0103 23:56:55.346000 30900 torch\\_dynamo\\convert_frame.py:1125]            ^^^^^^^^^^^^^^^^^^^^^^^^^^^^\n",
      "W0103 23:56:55.346000 30900 torch\\_dynamo\\convert_frame.py:1125]   File \"C:\\Users\\wexhi\\AppData\\Roaming\\Python\\Python312\\site-packages\\torch\\_dynamo\\output_graph.py\", line 1465, in _call_user_compiler\n",
      "W0103 23:56:55.346000 30900 torch\\_dynamo\\convert_frame.py:1125]     raise BackendCompilerFailed(self.compiler_fn, e) from e\n",
      "W0103 23:56:55.346000 30900 torch\\_dynamo\\convert_frame.py:1125] torch._dynamo.exc.BackendCompilerFailed: backend='inductor' raised:\n",
      "W0103 23:56:55.346000 30900 torch\\_dynamo\\convert_frame.py:1125] RuntimeError: Cannot find a working triton installation. Either the package is not installed or it is too old. More information on installing Triton can be found at https://github.com/openai/triton\n",
      "W0103 23:56:55.346000 30900 torch\\_dynamo\\convert_frame.py:1125] \n",
      "W0103 23:56:55.346000 30900 torch\\_dynamo\\convert_frame.py:1125] Set TORCH_LOGS=\"+dynamo\" and TORCHDYNAMO_VERBOSE=1 for more information\n",
      "W0103 23:56:55.346000 30900 torch\\_dynamo\\convert_frame.py:1125] \n",
      "W0103 23:56:55.346000 30900 torch\\_dynamo\\convert_frame.py:1125] Traceback (most recent call last):\n",
      "W0103 23:56:55.346000 30900 torch\\_dynamo\\convert_frame.py:1125]   File \"C:\\Users\\wexhi\\AppData\\Roaming\\Python\\Python312\\site-packages\\torch\\_dynamo\\output_graph.py\", line 1446, in _call_user_compiler\n",
      "W0103 23:56:55.346000 30900 torch\\_dynamo\\convert_frame.py:1125]     compiled_fn = compiler_fn(gm, self.example_inputs())\n",
      "W0103 23:56:55.346000 30900 torch\\_dynamo\\convert_frame.py:1125]                   ^^^^^^^^^^^^^^^^^^^^^^^^^^^^^^^^^^^^^^\n",
      "W0103 23:56:55.346000 30900 torch\\_dynamo\\convert_frame.py:1125]   File \"C:\\Users\\wexhi\\AppData\\Roaming\\Python\\Python312\\site-packages\\torch\\_dynamo\\repro\\after_dynamo.py\", line 129, in __call__\n",
      "W0103 23:56:55.346000 30900 torch\\_dynamo\\convert_frame.py:1125]     compiled_gm = compiler_fn(gm, example_inputs)\n",
      "W0103 23:56:55.346000 30900 torch\\_dynamo\\convert_frame.py:1125]                   ^^^^^^^^^^^^^^^^^^^^^^^^^^^^^^^\n",
      "W0103 23:56:55.346000 30900 torch\\_dynamo\\convert_frame.py:1125]   File \"C:\\Users\\wexhi\\AppData\\Roaming\\Python\\Python312\\site-packages\\torch\\__init__.py\", line 2234, in __call__\n",
      "W0103 23:56:55.346000 30900 torch\\_dynamo\\convert_frame.py:1125]     return compile_fx(model_, inputs_, config_patches=self.config)\n",
      "W0103 23:56:55.346000 30900 torch\\_dynamo\\convert_frame.py:1125]            ^^^^^^^^^^^^^^^^^^^^^^^^^^^^^^^^^^^^^^^^^^^^^^^^^^^^^^^\n",
      "W0103 23:56:55.346000 30900 torch\\_dynamo\\convert_frame.py:1125]   File \"C:\\Users\\wexhi\\AppData\\Roaming\\Python\\Python312\\site-packages\\torch\\_inductor\\compile_fx.py\", line 1521, in compile_fx\n",
      "W0103 23:56:55.346000 30900 torch\\_dynamo\\convert_frame.py:1125]     return aot_autograd(\n",
      "W0103 23:56:55.346000 30900 torch\\_dynamo\\convert_frame.py:1125]            ^^^^^^^^^^^^^\n",
      "W0103 23:56:55.346000 30900 torch\\_dynamo\\convert_frame.py:1125]   File \"C:\\Users\\wexhi\\AppData\\Roaming\\Python\\Python312\\site-packages\\torch\\_dynamo\\backends\\common.py\", line 72, in __call__\n",
      "W0103 23:56:55.346000 30900 torch\\_dynamo\\convert_frame.py:1125]     cg = aot_module_simplified(gm, example_inputs, **self.kwargs)\n",
      "W0103 23:56:55.346000 30900 torch\\_dynamo\\convert_frame.py:1125]          ^^^^^^^^^^^^^^^^^^^^^^^^^^^^^^^^^^^^^^^^^^^^^^^^^^^^^^^^\n",
      "W0103 23:56:55.346000 30900 torch\\_dynamo\\convert_frame.py:1125]   File \"C:\\Users\\wexhi\\AppData\\Roaming\\Python\\Python312\\site-packages\\torch\\_functorch\\aot_autograd.py\", line 1071, in aot_module_simplified\n",
      "W0103 23:56:55.346000 30900 torch\\_dynamo\\convert_frame.py:1125]     compiled_fn = dispatch_and_compile()\n",
      "W0103 23:56:55.346000 30900 torch\\_dynamo\\convert_frame.py:1125]                   ^^^^^^^^^^^^^^^^^^^^^^\n",
      "W0103 23:56:55.346000 30900 torch\\_dynamo\\convert_frame.py:1125]   File \"C:\\Users\\wexhi\\AppData\\Roaming\\Python\\Python312\\site-packages\\torch\\_functorch\\aot_autograd.py\", line 1056, in dispatch_and_compile\n",
      "W0103 23:56:55.346000 30900 torch\\_dynamo\\convert_frame.py:1125]     compiled_fn, _ = create_aot_dispatcher_function(\n",
      "W0103 23:56:55.346000 30900 torch\\_dynamo\\convert_frame.py:1125]                      ^^^^^^^^^^^^^^^^^^^^^^^^^^^^^^^\n",
      "W0103 23:56:55.346000 30900 torch\\_dynamo\\convert_frame.py:1125]   File \"C:\\Users\\wexhi\\AppData\\Roaming\\Python\\Python312\\site-packages\\torch\\_functorch\\aot_autograd.py\", line 522, in create_aot_dispatcher_function\n",
      "W0103 23:56:55.346000 30900 torch\\_dynamo\\convert_frame.py:1125]     return _create_aot_dispatcher_function(\n",
      "W0103 23:56:55.346000 30900 torch\\_dynamo\\convert_frame.py:1125]            ^^^^^^^^^^^^^^^^^^^^^^^^^^^^^^^^\n",
      "W0103 23:56:55.346000 30900 torch\\_dynamo\\convert_frame.py:1125]   File \"C:\\Users\\wexhi\\AppData\\Roaming\\Python\\Python312\\site-packages\\torch\\_functorch\\aot_autograd.py\", line 759, in _create_aot_dispatcher_function\n",
      "W0103 23:56:55.346000 30900 torch\\_dynamo\\convert_frame.py:1125]     compiled_fn, fw_metadata = compiler_fn(\n",
      "W0103 23:56:55.346000 30900 torch\\_dynamo\\convert_frame.py:1125]                                ^^^^^^^^^^^^\n",
      "W0103 23:56:55.346000 30900 torch\\_dynamo\\convert_frame.py:1125]   File \"C:\\Users\\wexhi\\AppData\\Roaming\\Python\\Python312\\site-packages\\torch\\_functorch\\_aot_autograd\\jit_compile_runtime_wrappers.py\", line 588, in aot_dispatch_autograd\n",
      "W0103 23:56:55.346000 30900 torch\\_dynamo\\convert_frame.py:1125]     compiled_fw_func = aot_config.fw_compiler(fw_module, adjusted_flat_args)\n",
      "W0103 23:56:55.346000 30900 torch\\_dynamo\\convert_frame.py:1125]                        ^^^^^^^^^^^^^^^^^^^^^^^^^^^^^^^^^^^^^^^^^^^^^^^^^^^^^\n",
      "W0103 23:56:55.346000 30900 torch\\_dynamo\\convert_frame.py:1125]   File \"C:\\Users\\wexhi\\AppData\\Roaming\\Python\\Python312\\site-packages\\torch\\_inductor\\compile_fx.py\", line 1350, in fw_compiler_base\n",
      "W0103 23:56:55.346000 30900 torch\\_dynamo\\convert_frame.py:1125]     return _fw_compiler_base(model, example_inputs, is_inference)\n",
      "W0103 23:56:55.346000 30900 torch\\_dynamo\\convert_frame.py:1125]            ^^^^^^^^^^^^^^^^^^^^^^^^^^^^^^^^^^^^^^^^^^^^^^^^^^^^^^\n",
      "W0103 23:56:55.346000 30900 torch\\_dynamo\\convert_frame.py:1125]   File \"C:\\Users\\wexhi\\AppData\\Roaming\\Python\\Python312\\site-packages\\torch\\_inductor\\compile_fx.py\", line 1421, in _fw_compiler_base\n",
      "W0103 23:56:55.346000 30900 torch\\_dynamo\\convert_frame.py:1125]     return inner_compile(\n",
      "W0103 23:56:55.346000 30900 torch\\_dynamo\\convert_frame.py:1125]            ^^^^^^^^^^^^^^\n",
      "W0103 23:56:55.346000 30900 torch\\_dynamo\\convert_frame.py:1125]   File \"C:\\Users\\wexhi\\AppData\\Roaming\\Python\\Python312\\site-packages\\torch\\_inductor\\compile_fx.py\", line 475, in compile_fx_inner\n",
      "W0103 23:56:55.346000 30900 torch\\_dynamo\\convert_frame.py:1125]     return wrap_compiler_debug(_compile_fx_inner, compiler_name=\"inductor\")(\n",
      "W0103 23:56:55.346000 30900 torch\\_dynamo\\convert_frame.py:1125]            ^^^^^^^^^^^^^^^^^^^^^^^^^^^^^^^^^^^^^^^^^^^^^^^^^^^^^^^^^^^^^^^^^\n",
      "W0103 23:56:55.346000 30900 torch\\_dynamo\\convert_frame.py:1125]   File \"C:\\Users\\wexhi\\AppData\\Roaming\\Python\\Python312\\site-packages\\torch\\_dynamo\\repro\\after_aot.py\", line 85, in debug_wrapper\n",
      "W0103 23:56:55.346000 30900 torch\\_dynamo\\convert_frame.py:1125]     inner_compiled_fn = compiler_fn(gm, example_inputs)\n",
      "W0103 23:56:55.346000 30900 torch\\_dynamo\\convert_frame.py:1125]                         ^^^^^^^^^^^^^^^^^^^^^^^^^^^^^^^\n",
      "W0103 23:56:55.346000 30900 torch\\_dynamo\\convert_frame.py:1125]   File \"C:\\Users\\wexhi\\AppData\\Roaming\\Python\\Python312\\site-packages\\torch\\_inductor\\compile_fx.py\", line 661, in _compile_fx_inner\n",
      "W0103 23:56:55.346000 30900 torch\\_dynamo\\convert_frame.py:1125]     compiled_graph = FxGraphCache.load(\n",
      "W0103 23:56:55.346000 30900 torch\\_dynamo\\convert_frame.py:1125]                      ^^^^^^^^^^^^^^^^^^\n",
      "W0103 23:56:55.346000 30900 torch\\_dynamo\\convert_frame.py:1125]   File \"C:\\Users\\wexhi\\AppData\\Roaming\\Python\\Python312\\site-packages\\torch\\_inductor\\codecache.py\", line 1334, in load\n",
      "W0103 23:56:55.346000 30900 torch\\_dynamo\\convert_frame.py:1125]     compiled_graph = compile_fx_fn(\n",
      "W0103 23:56:55.346000 30900 torch\\_dynamo\\convert_frame.py:1125]                      ^^^^^^^^^^^^^^\n",
      "W0103 23:56:55.346000 30900 torch\\_dynamo\\convert_frame.py:1125]   File \"C:\\Users\\wexhi\\AppData\\Roaming\\Python\\Python312\\site-packages\\torch\\_inductor\\compile_fx.py\", line 570, in codegen_and_compile\n",
      "W0103 23:56:55.346000 30900 torch\\_dynamo\\convert_frame.py:1125]     compiled_graph = fx_codegen_and_compile(gm, example_inputs, **fx_kwargs)\n",
      "W0103 23:56:55.346000 30900 torch\\_dynamo\\convert_frame.py:1125]                      ^^^^^^^^^^^^^^^^^^^^^^^^^^^^^^^^^^^^^^^^^^^^^^^^^^^^^^^\n",
      "W0103 23:56:55.346000 30900 torch\\_dynamo\\convert_frame.py:1125]   File \"C:\\Users\\wexhi\\AppData\\Roaming\\Python\\Python312\\site-packages\\torch\\_inductor\\compile_fx.py\", line 878, in fx_codegen_and_compile\n",
      "W0103 23:56:55.346000 30900 torch\\_dynamo\\convert_frame.py:1125]     compiled_fn = graph.compile_to_fn()\n",
      "W0103 23:56:55.346000 30900 torch\\_dynamo\\convert_frame.py:1125]                   ^^^^^^^^^^^^^^^^^^^^^\n",
      "W0103 23:56:55.346000 30900 torch\\_dynamo\\convert_frame.py:1125]   File \"C:\\Users\\wexhi\\AppData\\Roaming\\Python\\Python312\\site-packages\\torch\\_inductor\\graph.py\", line 1913, in compile_to_fn\n",
      "W0103 23:56:55.346000 30900 torch\\_dynamo\\convert_frame.py:1125]     return self.compile_to_module().call\n",
      "W0103 23:56:55.346000 30900 torch\\_dynamo\\convert_frame.py:1125]            ^^^^^^^^^^^^^^^^^^^^^^^^\n",
      "W0103 23:56:55.346000 30900 torch\\_dynamo\\convert_frame.py:1125]   File \"C:\\Users\\wexhi\\AppData\\Roaming\\Python\\Python312\\site-packages\\torch\\_inductor\\graph.py\", line 1839, in compile_to_module\n",
      "W0103 23:56:55.346000 30900 torch\\_dynamo\\convert_frame.py:1125]     return self._compile_to_module()\n",
      "W0103 23:56:55.346000 30900 torch\\_dynamo\\convert_frame.py:1125]            ^^^^^^^^^^^^^^^^^^^^^^^^^\n",
      "W0103 23:56:55.346000 30900 torch\\_dynamo\\convert_frame.py:1125]   File \"C:\\Users\\wexhi\\AppData\\Roaming\\Python\\Python312\\site-packages\\torch\\_inductor\\graph.py\", line 1845, in _compile_to_module\n",
      "W0103 23:56:55.346000 30900 torch\\_dynamo\\convert_frame.py:1125]     self.codegen_with_cpp_wrapper() if self.cpp_wrapper else self.codegen()\n",
      "W0103 23:56:55.346000 30900 torch\\_dynamo\\convert_frame.py:1125]                                                              ^^^^^^^^^^^^^^\n",
      "W0103 23:56:55.346000 30900 torch\\_dynamo\\convert_frame.py:1125]   File \"C:\\Users\\wexhi\\AppData\\Roaming\\Python\\Python312\\site-packages\\torch\\_inductor\\graph.py\", line 1780, in codegen\n",
      "W0103 23:56:55.346000 30900 torch\\_dynamo\\convert_frame.py:1125]     self.scheduler = Scheduler(self.operations)\n",
      "W0103 23:56:55.346000 30900 torch\\_dynamo\\convert_frame.py:1125]                      ^^^^^^^^^^^^^^^^^^^^^^^^^^\n",
      "W0103 23:56:55.346000 30900 torch\\_dynamo\\convert_frame.py:1125]   File \"C:\\Users\\wexhi\\AppData\\Roaming\\Python\\Python312\\site-packages\\torch\\_inductor\\scheduler.py\", line 1731, in __init__\n",
      "W0103 23:56:55.346000 30900 torch\\_dynamo\\convert_frame.py:1125]     self._init(nodes)\n",
      "W0103 23:56:55.346000 30900 torch\\_dynamo\\convert_frame.py:1125]   File \"C:\\Users\\wexhi\\AppData\\Roaming\\Python\\Python312\\site-packages\\torch\\_inductor\\scheduler.py\", line 1749, in _init\n",
      "W0103 23:56:55.346000 30900 torch\\_dynamo\\convert_frame.py:1125]     self.nodes = [self.create_scheduler_node(n) for n in nodes]\n",
      "W0103 23:56:55.346000 30900 torch\\_dynamo\\convert_frame.py:1125]                   ^^^^^^^^^^^^^^^^^^^^^^^^^^^^^\n",
      "W0103 23:56:55.346000 30900 torch\\_dynamo\\convert_frame.py:1125]   File \"C:\\Users\\wexhi\\AppData\\Roaming\\Python\\Python312\\site-packages\\torch\\_inductor\\scheduler.py\", line 1856, in create_scheduler_node\n",
      "W0103 23:56:55.346000 30900 torch\\_dynamo\\convert_frame.py:1125]     return SchedulerNode(self, node)\n",
      "W0103 23:56:55.346000 30900 torch\\_dynamo\\convert_frame.py:1125]            ^^^^^^^^^^^^^^^^^^^^^^^^^\n",
      "W0103 23:56:55.346000 30900 torch\\_dynamo\\convert_frame.py:1125]   File \"C:\\Users\\wexhi\\AppData\\Roaming\\Python\\Python312\\site-packages\\torch\\_inductor\\scheduler.py\", line 833, in __init__\n",
      "W0103 23:56:55.346000 30900 torch\\_dynamo\\convert_frame.py:1125]     self._compute_attrs()\n",
      "W0103 23:56:55.346000 30900 torch\\_dynamo\\convert_frame.py:1125]   File \"C:\\Users\\wexhi\\AppData\\Roaming\\Python\\Python312\\site-packages\\torch\\_inductor\\scheduler.py\", line 846, in _compute_attrs\n",
      "W0103 23:56:55.346000 30900 torch\\_dynamo\\convert_frame.py:1125]     group_fn = self.scheduler.get_backend(self.node.get_device()).group_fn\n",
      "W0103 23:56:55.346000 30900 torch\\_dynamo\\convert_frame.py:1125]                ^^^^^^^^^^^^^^^^^^^^^^^^^^^^^^^^^^^^^^^^^^^^^^^^^^\n",
      "W0103 23:56:55.346000 30900 torch\\_dynamo\\convert_frame.py:1125]   File \"C:\\Users\\wexhi\\AppData\\Roaming\\Python\\Python312\\site-packages\\torch\\_inductor\\scheduler.py\", line 3360, in get_backend\n",
      "W0103 23:56:55.346000 30900 torch\\_dynamo\\convert_frame.py:1125]     self.backends[device] = self.create_backend(device)\n",
      "W0103 23:56:55.346000 30900 torch\\_dynamo\\convert_frame.py:1125]                             ^^^^^^^^^^^^^^^^^^^^^^^^^^^\n",
      "W0103 23:56:55.346000 30900 torch\\_dynamo\\convert_frame.py:1125]   File \"C:\\Users\\wexhi\\AppData\\Roaming\\Python\\Python312\\site-packages\\torch\\_inductor\\scheduler.py\", line 3352, in create_backend\n",
      "W0103 23:56:55.346000 30900 torch\\_dynamo\\convert_frame.py:1125]     raise RuntimeError(\n",
      "W0103 23:56:55.346000 30900 torch\\_dynamo\\convert_frame.py:1125] RuntimeError: Cannot find a working triton installation. Either the package is not installed or it is too old. More information on installing Triton can be found at https://github.com/openai/triton\n",
      "W0103 23:56:55.346000 30900 torch\\_dynamo\\convert_frame.py:1125] \n",
      "W0103 23:56:55.346000 30900 torch\\_dynamo\\convert_frame.py:1125] The above exception was the direct cause of the following exception:\n",
      "W0103 23:56:55.346000 30900 torch\\_dynamo\\convert_frame.py:1125] \n",
      "W0103 23:56:55.346000 30900 torch\\_dynamo\\convert_frame.py:1125] Traceback (most recent call last):\n",
      "W0103 23:56:55.346000 30900 torch\\_dynamo\\convert_frame.py:1125]   File \"C:\\Users\\wexhi\\AppData\\Roaming\\Python\\Python312\\site-packages\\torch\\_dynamo\\convert_frame.py\", line 1064, in __call__\n",
      "W0103 23:56:55.346000 30900 torch\\_dynamo\\convert_frame.py:1125]     result = self._inner_convert(\n",
      "W0103 23:56:55.346000 30900 torch\\_dynamo\\convert_frame.py:1125]              ^^^^^^^^^^^^^^^^^^^^\n",
      "W0103 23:56:55.346000 30900 torch\\_dynamo\\convert_frame.py:1125]   File \"C:\\Users\\wexhi\\AppData\\Roaming\\Python\\Python312\\site-packages\\torch\\_dynamo\\convert_frame.py\", line 526, in __call__\n",
      "W0103 23:56:55.346000 30900 torch\\_dynamo\\convert_frame.py:1125]     return _compile(\n",
      "W0103 23:56:55.346000 30900 torch\\_dynamo\\convert_frame.py:1125]            ^^^^^^^^^\n",
      "W0103 23:56:55.346000 30900 torch\\_dynamo\\convert_frame.py:1125]   File \"C:\\Users\\wexhi\\AppData\\Roaming\\Python\\Python312\\site-packages\\torch\\_dynamo\\convert_frame.py\", line 924, in _compile\n",
      "W0103 23:56:55.346000 30900 torch\\_dynamo\\convert_frame.py:1125]     guarded_code = compile_inner(code, one_graph, hooks, transform)\n",
      "W0103 23:56:55.346000 30900 torch\\_dynamo\\convert_frame.py:1125]                    ^^^^^^^^^^^^^^^^^^^^^^^^^^^^^^^^^^^^^^^^^^^^^^^^\n",
      "W0103 23:56:55.346000 30900 torch\\_dynamo\\convert_frame.py:1125]   File \"C:\\Users\\wexhi\\AppData\\Roaming\\Python\\Python312\\site-packages\\torch\\_dynamo\\convert_frame.py\", line 666, in compile_inner\n",
      "W0103 23:56:55.346000 30900 torch\\_dynamo\\convert_frame.py:1125]     return _compile_inner(code, one_graph, hooks, transform)\n",
      "W0103 23:56:55.346000 30900 torch\\_dynamo\\convert_frame.py:1125]            ^^^^^^^^^^^^^^^^^^^^^^^^^^^^^^^^^^^^^^^^^^^^^^^^^\n",
      "W0103 23:56:55.346000 30900 torch\\_dynamo\\convert_frame.py:1125]   File \"C:\\Users\\wexhi\\AppData\\Roaming\\Python\\Python312\\site-packages\\torch\\_utils_internal.py\", line 87, in wrapper_function\n",
      "W0103 23:56:55.346000 30900 torch\\_dynamo\\convert_frame.py:1125]     return function(*args, **kwargs)\n",
      "W0103 23:56:55.346000 30900 torch\\_dynamo\\convert_frame.py:1125]            ^^^^^^^^^^^^^^^^^^^^^^^^^\n",
      "W0103 23:56:55.346000 30900 torch\\_dynamo\\convert_frame.py:1125]   File \"C:\\Users\\wexhi\\AppData\\Roaming\\Python\\Python312\\site-packages\\torch\\_dynamo\\convert_frame.py\", line 699, in _compile_inner\n",
      "W0103 23:56:55.346000 30900 torch\\_dynamo\\convert_frame.py:1125]     out_code = transform_code_object(code, transform)\n",
      "W0103 23:56:55.346000 30900 torch\\_dynamo\\convert_frame.py:1125]                ^^^^^^^^^^^^^^^^^^^^^^^^^^^^^^^^^^^^^^\n",
      "W0103 23:56:55.346000 30900 torch\\_dynamo\\convert_frame.py:1125]   File \"C:\\Users\\wexhi\\AppData\\Roaming\\Python\\Python312\\site-packages\\torch\\_dynamo\\bytecode_transformation.py\", line 1322, in transform_code_object\n",
      "W0103 23:56:55.346000 30900 torch\\_dynamo\\convert_frame.py:1125]     transformations(instructions, code_options)\n",
      "W0103 23:56:55.346000 30900 torch\\_dynamo\\convert_frame.py:1125]   File \"C:\\Users\\wexhi\\AppData\\Roaming\\Python\\Python312\\site-packages\\torch\\_dynamo\\convert_frame.py\", line 219, in _fn\n",
      "W0103 23:56:55.346000 30900 torch\\_dynamo\\convert_frame.py:1125]     return fn(*args, **kwargs)\n",
      "W0103 23:56:55.346000 30900 torch\\_dynamo\\convert_frame.py:1125]            ^^^^^^^^^^^^^^^^^^^\n",
      "W0103 23:56:55.346000 30900 torch\\_dynamo\\convert_frame.py:1125]   File \"C:\\Users\\wexhi\\AppData\\Roaming\\Python\\Python312\\site-packages\\torch\\_dynamo\\convert_frame.py\", line 634, in transform\n",
      "W0103 23:56:55.346000 30900 torch\\_dynamo\\convert_frame.py:1125]     tracer.run()\n",
      "W0103 23:56:55.346000 30900 torch\\_dynamo\\convert_frame.py:1125]   File \"C:\\Users\\wexhi\\AppData\\Roaming\\Python\\Python312\\site-packages\\torch\\_dynamo\\symbolic_convert.py\", line 2796, in run\n",
      "W0103 23:56:55.346000 30900 torch\\_dynamo\\convert_frame.py:1125]     super().run()\n",
      "W0103 23:56:55.346000 30900 torch\\_dynamo\\convert_frame.py:1125]   File \"C:\\Users\\wexhi\\AppData\\Roaming\\Python\\Python312\\site-packages\\torch\\_dynamo\\symbolic_convert.py\", line 983, in run\n",
      "W0103 23:56:55.346000 30900 torch\\_dynamo\\convert_frame.py:1125]     while self.step():\n",
      "W0103 23:56:55.346000 30900 torch\\_dynamo\\convert_frame.py:1125]           ^^^^^^^^^^^\n",
      "W0103 23:56:55.346000 30900 torch\\_dynamo\\convert_frame.py:1125]   File \"C:\\Users\\wexhi\\AppData\\Roaming\\Python\\Python312\\site-packages\\torch\\_dynamo\\symbolic_convert.py\", line 895, in step\n",
      "W0103 23:56:55.346000 30900 torch\\_dynamo\\convert_frame.py:1125]     self.dispatch_table[inst.opcode](self, inst)\n",
      "W0103 23:56:55.346000 30900 torch\\_dynamo\\convert_frame.py:1125]   File \"C:\\Users\\wexhi\\AppData\\Roaming\\Python\\Python312\\site-packages\\torch\\_dynamo\\symbolic_convert.py\", line 2987, in RETURN_VALUE\n",
      "W0103 23:56:55.346000 30900 torch\\_dynamo\\convert_frame.py:1125]     self._return(inst)\n",
      "W0103 23:56:55.346000 30900 torch\\_dynamo\\convert_frame.py:1125]   File \"C:\\Users\\wexhi\\AppData\\Roaming\\Python\\Python312\\site-packages\\torch\\_dynamo\\symbolic_convert.py\", line 2972, in _return\n",
      "W0103 23:56:55.346000 30900 torch\\_dynamo\\convert_frame.py:1125]     self.output.compile_subgraph(\n",
      "W0103 23:56:55.346000 30900 torch\\_dynamo\\convert_frame.py:1125]   File \"C:\\Users\\wexhi\\AppData\\Roaming\\Python\\Python312\\site-packages\\torch\\_dynamo\\output_graph.py\", line 1117, in compile_subgraph\n",
      "W0103 23:56:55.346000 30900 torch\\_dynamo\\convert_frame.py:1125]     self.compile_and_call_fx_graph(tx, list(reversed(stack_values)), root)\n",
      "W0103 23:56:55.346000 30900 torch\\_dynamo\\convert_frame.py:1125]   File \"C:\\Users\\wexhi\\AppData\\Roaming\\Python\\Python312\\site-packages\\torch\\_dynamo\\output_graph.py\", line 1369, in compile_and_call_fx_graph\n",
      "W0103 23:56:55.346000 30900 torch\\_dynamo\\convert_frame.py:1125]     compiled_fn = self.call_user_compiler(gm)\n",
      "W0103 23:56:55.346000 30900 torch\\_dynamo\\convert_frame.py:1125]                   ^^^^^^^^^^^^^^^^^^^^^^^^^^^\n",
      "W0103 23:56:55.346000 30900 torch\\_dynamo\\convert_frame.py:1125]   File \"C:\\Users\\wexhi\\AppData\\Roaming\\Python\\Python312\\site-packages\\torch\\_dynamo\\output_graph.py\", line 1416, in call_user_compiler\n",
      "W0103 23:56:55.346000 30900 torch\\_dynamo\\convert_frame.py:1125]     return self._call_user_compiler(gm)\n",
      "W0103 23:56:55.346000 30900 torch\\_dynamo\\convert_frame.py:1125]            ^^^^^^^^^^^^^^^^^^^^^^^^^^^^\n",
      "W0103 23:56:55.346000 30900 torch\\_dynamo\\convert_frame.py:1125]   File \"C:\\Users\\wexhi\\AppData\\Roaming\\Python\\Python312\\site-packages\\torch\\_dynamo\\output_graph.py\", line 1465, in _call_user_compiler\n",
      "W0103 23:56:55.346000 30900 torch\\_dynamo\\convert_frame.py:1125]     raise BackendCompilerFailed(self.compiler_fn, e) from e\n",
      "W0103 23:56:55.346000 30900 torch\\_dynamo\\convert_frame.py:1125] torch._dynamo.exc.BackendCompilerFailed: backend='inductor' raised:\n",
      "W0103 23:56:55.346000 30900 torch\\_dynamo\\convert_frame.py:1125] RuntimeError: Cannot find a working triton installation. Either the package is not installed or it is too old. More information on installing Triton can be found at https://github.com/openai/triton\n",
      "W0103 23:56:55.346000 30900 torch\\_dynamo\\convert_frame.py:1125] \n",
      "W0103 23:56:55.346000 30900 torch\\_dynamo\\convert_frame.py:1125] Set TORCH_LOGS=\"+dynamo\" and TORCHDYNAMO_VERBOSE=1 for more information\n",
      "W0103 23:56:55.346000 30900 torch\\_dynamo\\convert_frame.py:1125] \n"
     ]
    },
    {
     "ename": "KeyboardInterrupt",
     "evalue": "",
     "output_type": "error",
     "traceback": [
      "\u001b[1;31m---------------------------------------------------------------------------\u001b[0m",
      "\u001b[1;31mKeyboardInterrupt\u001b[0m                         Traceback (most recent call last)",
      "Cell \u001b[1;32mIn[45], line 1\u001b[0m\n\u001b[1;32m----> 1\u001b[0m execution_stats \u001b[38;5;241m=\u001b[39m [\u001b[43mtime_pytorch_function_forward_backward\u001b[49m\u001b[43m(\u001b[49m\u001b[43mprepare_function\u001b[49m\u001b[43m(\u001b[49m\u001b[43mfn\u001b[49m\u001b[43m)\u001b[49m\u001b[43m,\u001b[49m\u001b[43m \u001b[49m\u001b[43membeddings\u001b[49m\u001b[43m)\u001b[49m \u001b[38;5;28;01mfor\u001b[39;00m fn \u001b[38;5;129;01min\u001b[39;00m functions\u001b[38;5;241m.\u001b[39mvalues()]\n\u001b[0;32m      2\u001b[0m execution_means \u001b[38;5;241m=\u001b[39m [stat[\u001b[38;5;241m0\u001b[39m] \u001b[38;5;28;01mfor\u001b[39;00m stat \u001b[38;5;129;01min\u001b[39;00m execution_stats]\n\u001b[0;32m      3\u001b[0m execution_stds \u001b[38;5;241m=\u001b[39m [stat[\u001b[38;5;241m1\u001b[39m] \u001b[38;5;28;01mfor\u001b[39;00m stat \u001b[38;5;129;01min\u001b[39;00m execution_stats]\n",
      "Cell \u001b[1;32mIn[42], line 25\u001b[0m, in \u001b[0;36mtime_pytorch_function_forward_backward\u001b[1;34m(func, num_repeats, *input)\u001b[0m\n\u001b[0;32m     23\u001b[0m     forward_backward(func, \u001b[38;5;241m*\u001b[39m\u001b[38;5;28minput\u001b[39m)\n\u001b[0;32m     24\u001b[0m     end\u001b[38;5;241m.\u001b[39mrecord()\n\u001b[1;32m---> 25\u001b[0m     \u001b[43mtorch\u001b[49m\u001b[38;5;241;43m.\u001b[39;49m\u001b[43mcuda\u001b[49m\u001b[38;5;241;43m.\u001b[39;49m\u001b[43msynchronize\u001b[49m\u001b[43m(\u001b[49m\u001b[43m)\u001b[49m\n\u001b[0;32m     26\u001b[0m     times\u001b[38;5;241m.\u001b[39mappend(start\u001b[38;5;241m.\u001b[39melapsed_time(end))\n\u001b[0;32m     28\u001b[0m \u001b[38;5;28;01mreturn\u001b[39;00m np\u001b[38;5;241m.\u001b[39mmean(times), np\u001b[38;5;241m.\u001b[39mstd(times)\n",
      "File \u001b[1;32m~\\AppData\\Roaming\\Python\\Python312\\site-packages\\torch\\cuda\\__init__.py:954\u001b[0m, in \u001b[0;36msynchronize\u001b[1;34m(device)\u001b[0m\n\u001b[0;32m    952\u001b[0m _lazy_init()\n\u001b[0;32m    953\u001b[0m \u001b[38;5;28;01mwith\u001b[39;00m torch\u001b[38;5;241m.\u001b[39mcuda\u001b[38;5;241m.\u001b[39mdevice(device):\n\u001b[1;32m--> 954\u001b[0m     \u001b[38;5;28;01mreturn\u001b[39;00m \u001b[43mtorch\u001b[49m\u001b[38;5;241;43m.\u001b[39;49m\u001b[43m_C\u001b[49m\u001b[38;5;241;43m.\u001b[39;49m\u001b[43m_cuda_synchronize\u001b[49m\u001b[43m(\u001b[49m\u001b[43m)\u001b[49m\n",
      "\u001b[1;31mKeyboardInterrupt\u001b[0m: "
     ]
    }
   ],
   "source": [
    "execution_stats = [time_pytorch_function_forward_backward(prepare_function(fn), embeddings) for fn in functions.values()]\n",
    "execution_means = [stat[0] for stat in execution_stats]\n",
    "execution_stds = [stat[1] for stat in execution_stats]\n",
    "\n",
    "\n",
    "plot_execution_times(functions, execution_means, execution_stds, filename=\"3_forward-and-backward-compiled.pdf\")"
   ]
  }
 ],
 "metadata": {
  "accelerator": "GPU",
  "colab": {
   "gpuType": "A100",
   "provenance": []
  },
  "kernelspec": {
   "display_name": "Python 3",
   "language": "python",
   "name": "python3"
  },
  "language_info": {
   "codemirror_mode": {
    "name": "ipython",
    "version": 3
   },
   "file_extension": ".py",
   "mimetype": "text/x-python",
   "name": "python",
   "nbconvert_exporter": "python",
   "pygments_lexer": "ipython3",
   "version": "3.12.5"
  }
 },
 "nbformat": 4,
 "nbformat_minor": 5
}
